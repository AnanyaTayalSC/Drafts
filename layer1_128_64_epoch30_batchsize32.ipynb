{
  "nbformat": 4,
  "nbformat_minor": 0,
  "metadata": {
    "colab": {
      "provenance": [],
      "mount_file_id": "1eJ7YcUY8kaIu_nOFsRyF1bRQqpB64__z",
      "authorship_tag": "ABX9TyP/ZUmbHpJ3dbSfzHTQXH6l",
      "include_colab_link": true
    },
    "kernelspec": {
      "name": "python3",
      "display_name": "Python 3"
    },
    "language_info": {
      "name": "python"
    }
  },
  "cells": [
    {
      "cell_type": "markdown",
      "metadata": {
        "id": "view-in-github",
        "colab_type": "text"
      },
      "source": [
        "<a href=\"https://colab.research.google.com/github/AnanyaTayalSC/Drafts/blob/main/layer1_128_64_epoch30_batchsize32.ipynb\" target=\"_parent\"><img src=\"https://colab.research.google.com/assets/colab-badge.svg\" alt=\"Open In Colab\"/></a>"
      ]
    },
    {
      "cell_type": "code",
      "source": [
        "pip install scipy numpy"
      ],
      "metadata": {
        "colab": {
          "base_uri": "https://localhost:8080/"
        },
        "id": "cVLbiTXYwvmH",
        "outputId": "d6715f0f-f07e-411b-e52e-091eeba83491"
      },
      "execution_count": null,
      "outputs": [
        {
          "output_type": "stream",
          "name": "stdout",
          "text": [
            "Requirement already satisfied: scipy in /usr/local/lib/python3.11/dist-packages (1.16.0)\n",
            "Requirement already satisfied: numpy in /usr/local/lib/python3.11/dist-packages (2.0.2)\n"
          ]
        }
      ]
    },
    {
      "cell_type": "code",
      "source": [
        "import tensorflow as tf\n",
        "from tensorflow.keras.models import Model\n",
        "from tensorflow.keras.layers import Input, LSTM, RepeatVector, TimeDistributed, Dense\n",
        "from tensorflow.keras.optimizers import Adam\n",
        "import numpy as np\n",
        "import scipy.io\n",
        "import pandas as pd\n"
      ],
      "metadata": {
        "id": "bFmtfcDawzZI"
      },
      "execution_count": null,
      "outputs": []
    },
    {
      "cell_type": "code",
      "source": [
        "# Define the path to your CSV file\n",
        "#import sys\n",
        "#sys.path.append('/content/drive/MyDrive/Colab Notebooks/Thesis')\n",
        "csv_file_path = '/content/drive/MyDrive/Colab Notebooks/Thesis/v_ego.csv'\n",
        "\n",
        "# Load the CSV file into a pandas DataFrame\n",
        "# parse_dates tells pandas to convert the 'Date' column to datetime objects\n",
        "# index_col sets the 'Date' column as the DataFrame's index, which is crucial for time series\n",
        "df = pd.read_csv(csv_file_path)"
      ],
      "metadata": {
        "id": "Tgh8jolldQ18"
      },
      "execution_count": null,
      "outputs": []
    },
    {
      "cell_type": "code",
      "source": [
        "#mat_data = scipy.io.loadmat('FinalmetricAI.mat')"
      ],
      "metadata": {
        "id": "kt2DcLn0w5aV"
      },
      "execution_count": null,
      "outputs": []
    },
    {
      "cell_type": "code",
      "source": [
        "\n",
        "# Configuration\n",
        "timesteps = 501  # Length of input sequences\n",
        "features = 1    # Features per timestep\n",
        "latent_dim = 10  # Size of latent space representation\n"
      ],
      "metadata": {
        "id": "TsVt9j5Yu1Sk"
      },
      "execution_count": null,
      "outputs": []
    },
    {
      "cell_type": "code",
      "source": [
        "print(df)\n",
        "data = df.values"
      ],
      "metadata": {
        "colab": {
          "base_uri": "https://localhost:8080/"
        },
        "id": "r267loMagVXI",
        "outputId": "70c79e37-1ab6-4025-f7b7-43f84c0ba210"
      },
      "execution_count": null,
      "outputs": [
        {
          "output_type": "stream",
          "name": "stdout",
          "text": [
            "       4.0078   3.9093   3.8107   3.7122   3.6136   3.5151   3.4165   3.318  \\\n",
            "0      4.0078   3.9093   3.8107   3.7122   3.6136   3.5151   3.4165   3.318   \n",
            "1      4.0078   3.9093   3.8107   3.7122   3.6136   3.5151   3.4165   3.318   \n",
            "2      4.0078   3.9093   3.8107   3.7122   3.6136   3.5151   3.4165   3.318   \n",
            "3      4.0078   3.9093   3.8107   3.7122   3.6136   3.5151   3.4165   3.318   \n",
            "4      4.0078   3.9093   3.8107   3.7122   3.6136   3.5151   3.4165   3.318   \n",
            "...       ...      ...      ...      ...      ...      ...      ...     ...   \n",
            "1389  16.4260  16.5050  16.5830  16.6620  16.7410  16.8200  16.8990  16.978   \n",
            "1390  16.4260  16.5240   0.0000   0.0000   0.0000   0.0000   0.0000   0.000   \n",
            "1391  16.4260  16.5240  16.6230  16.7210  16.8200  16.9180  17.0170  17.116   \n",
            "1392  16.4260  16.5240   0.0000   0.0000   0.0000   0.0000   0.0000   0.000   \n",
            "1393  16.4260  16.5240  16.6230  16.7210  16.8200  16.9180  17.0170  17.116   \n",
            "\n",
            "       3.2194   3.1209  ...  0.450  0.451  0.452  0.453  0.454  0.455  0.456  \\\n",
            "0      3.2194   3.1209  ...    0.0    0.0    0.0    0.0    0.0    0.0    0.0   \n",
            "1      3.2194   3.1209  ...    0.0    0.0    0.0    0.0    0.0    0.0    0.0   \n",
            "2      3.2194   3.1209  ...    0.0    0.0    0.0    0.0    0.0    0.0    0.0   \n",
            "3      3.2194   3.1209  ...    0.0    0.0    0.0    0.0    0.0    0.0    0.0   \n",
            "4      3.2194   3.1209  ...    0.0    0.0    0.0    0.0    0.0    0.0    0.0   \n",
            "...       ...      ...  ...    ...    ...    ...    ...    ...    ...    ...   \n",
            "1389  17.0560  17.1350  ...    0.0    0.0    0.0    0.0    0.0    0.0    0.0   \n",
            "1390   0.0000   0.0000  ...    0.0    0.0    0.0    0.0    0.0    0.0    0.0   \n",
            "1391  17.2140   0.0000  ...    0.0    0.0    0.0    0.0    0.0    0.0    0.0   \n",
            "1392   0.0000   0.0000  ...    0.0    0.0    0.0    0.0    0.0    0.0    0.0   \n",
            "1393  17.2140  17.3130  ...    0.0    0.0    0.0    0.0    0.0    0.0    0.0   \n",
            "\n",
            "      0.457  0.458  0.459  \n",
            "0       0.0    0.0    0.0  \n",
            "1       0.0    0.0    0.0  \n",
            "2       0.0    0.0    0.0  \n",
            "3       0.0    0.0    0.0  \n",
            "4       0.0    0.0    0.0  \n",
            "...     ...    ...    ...  \n",
            "1389    0.0    0.0    0.0  \n",
            "1390    0.0    0.0    0.0  \n",
            "1391    0.0    0.0    0.0  \n",
            "1392    0.0    0.0    0.0  \n",
            "1393    0.0    0.0    0.0  \n",
            "\n",
            "[1394 rows x 501 columns]\n"
          ]
        }
      ]
    },
    {
      "cell_type": "code",
      "source": [
        "# ===== Encoder =====\n",
        "encoder_inputs = Input(shape=(timesteps, features))\n",
        "encoder = LSTM(latent_dim, activation='relu', return_sequences=False)(encoder_inputs)\n",
        "\n",
        "# ===== Decoder =====\n",
        "decoder = RepeatVector(timesteps)(encoder)  # Repeat latent vector\n",
        "decoder = LSTM(latent_dim, activation='relu', return_sequences=True)(decoder)\n",
        "decoder_outputs = TimeDistributed(Dense(features))(decoder)  # Output per timestep\n",
        "\n",
        "# ===== Autoencoder Model =====\n",
        "autoencoder = Model(encoder_inputs, decoder_outputs)\n",
        "autoencoder.compile(optimizer=Adam(learning_rate=0.001), loss='mse')\n",
        "autoencoder.summary()\n"
      ],
      "metadata": {
        "id": "V93tXxHfu-lV",
        "colab": {
          "base_uri": "https://localhost:8080/",
          "height": 305
        },
        "outputId": "d0c313f7-2ec7-48f1-ccdc-d13b5037a958"
      },
      "execution_count": null,
      "outputs": [
        {
          "output_type": "display_data",
          "data": {
            "text/plain": [
              "\u001b[1mModel: \"functional_1\"\u001b[0m\n"
            ],
            "text/html": [
              "<pre style=\"white-space:pre;overflow-x:auto;line-height:normal;font-family:Menlo,'DejaVu Sans Mono',consolas,'Courier New',monospace\"><span style=\"font-weight: bold\">Model: \"functional_1\"</span>\n",
              "</pre>\n"
            ]
          },
          "metadata": {}
        },
        {
          "output_type": "display_data",
          "data": {
            "text/plain": [
              "┏━━━━━━━━━━━━━━━━━━━━━━━━━━━━━━━━━┳━━━━━━━━━━━━━━━━━━━━━━━━┳━━━━━━━━━━━━━━━┓\n",
              "┃\u001b[1m \u001b[0m\u001b[1mLayer (type)                   \u001b[0m\u001b[1m \u001b[0m┃\u001b[1m \u001b[0m\u001b[1mOutput Shape          \u001b[0m\u001b[1m \u001b[0m┃\u001b[1m \u001b[0m\u001b[1m      Param #\u001b[0m\u001b[1m \u001b[0m┃\n",
              "┡━━━━━━━━━━━━━━━━━━━━━━━━━━━━━━━━━╇━━━━━━━━━━━━━━━━━━━━━━━━╇━━━━━━━━━━━━━━━┩\n",
              "│ input_layer_1 (\u001b[38;5;33mInputLayer\u001b[0m)      │ (\u001b[38;5;45mNone\u001b[0m, \u001b[38;5;34m501\u001b[0m, \u001b[38;5;34m1\u001b[0m)         │             \u001b[38;5;34m0\u001b[0m │\n",
              "├─────────────────────────────────┼────────────────────────┼───────────────┤\n",
              "│ lstm_4 (\u001b[38;5;33mLSTM\u001b[0m)                   │ (\u001b[38;5;45mNone\u001b[0m, \u001b[38;5;34m10\u001b[0m)             │           \u001b[38;5;34m480\u001b[0m │\n",
              "├─────────────────────────────────┼────────────────────────┼───────────────┤\n",
              "│ repeat_vector_1 (\u001b[38;5;33mRepeatVector\u001b[0m)  │ (\u001b[38;5;45mNone\u001b[0m, \u001b[38;5;34m501\u001b[0m, \u001b[38;5;34m10\u001b[0m)        │             \u001b[38;5;34m0\u001b[0m │\n",
              "├─────────────────────────────────┼────────────────────────┼───────────────┤\n",
              "│ lstm_5 (\u001b[38;5;33mLSTM\u001b[0m)                   │ (\u001b[38;5;45mNone\u001b[0m, \u001b[38;5;34m501\u001b[0m, \u001b[38;5;34m10\u001b[0m)        │           \u001b[38;5;34m840\u001b[0m │\n",
              "├─────────────────────────────────┼────────────────────────┼───────────────┤\n",
              "│ time_distributed_1              │ (\u001b[38;5;45mNone\u001b[0m, \u001b[38;5;34m501\u001b[0m, \u001b[38;5;34m1\u001b[0m)         │            \u001b[38;5;34m11\u001b[0m │\n",
              "│ (\u001b[38;5;33mTimeDistributed\u001b[0m)               │                        │               │\n",
              "└─────────────────────────────────┴────────────────────────┴───────────────┘\n"
            ],
            "text/html": [
              "<pre style=\"white-space:pre;overflow-x:auto;line-height:normal;font-family:Menlo,'DejaVu Sans Mono',consolas,'Courier New',monospace\">┏━━━━━━━━━━━━━━━━━━━━━━━━━━━━━━━━━┳━━━━━━━━━━━━━━━━━━━━━━━━┳━━━━━━━━━━━━━━━┓\n",
              "┃<span style=\"font-weight: bold\"> Layer (type)                    </span>┃<span style=\"font-weight: bold\"> Output Shape           </span>┃<span style=\"font-weight: bold\">       Param # </span>┃\n",
              "┡━━━━━━━━━━━━━━━━━━━━━━━━━━━━━━━━━╇━━━━━━━━━━━━━━━━━━━━━━━━╇━━━━━━━━━━━━━━━┩\n",
              "│ input_layer_1 (<span style=\"color: #0087ff; text-decoration-color: #0087ff\">InputLayer</span>)      │ (<span style=\"color: #00d7ff; text-decoration-color: #00d7ff\">None</span>, <span style=\"color: #00af00; text-decoration-color: #00af00\">501</span>, <span style=\"color: #00af00; text-decoration-color: #00af00\">1</span>)         │             <span style=\"color: #00af00; text-decoration-color: #00af00\">0</span> │\n",
              "├─────────────────────────────────┼────────────────────────┼───────────────┤\n",
              "│ lstm_4 (<span style=\"color: #0087ff; text-decoration-color: #0087ff\">LSTM</span>)                   │ (<span style=\"color: #00d7ff; text-decoration-color: #00d7ff\">None</span>, <span style=\"color: #00af00; text-decoration-color: #00af00\">10</span>)             │           <span style=\"color: #00af00; text-decoration-color: #00af00\">480</span> │\n",
              "├─────────────────────────────────┼────────────────────────┼───────────────┤\n",
              "│ repeat_vector_1 (<span style=\"color: #0087ff; text-decoration-color: #0087ff\">RepeatVector</span>)  │ (<span style=\"color: #00d7ff; text-decoration-color: #00d7ff\">None</span>, <span style=\"color: #00af00; text-decoration-color: #00af00\">501</span>, <span style=\"color: #00af00; text-decoration-color: #00af00\">10</span>)        │             <span style=\"color: #00af00; text-decoration-color: #00af00\">0</span> │\n",
              "├─────────────────────────────────┼────────────────────────┼───────────────┤\n",
              "│ lstm_5 (<span style=\"color: #0087ff; text-decoration-color: #0087ff\">LSTM</span>)                   │ (<span style=\"color: #00d7ff; text-decoration-color: #00d7ff\">None</span>, <span style=\"color: #00af00; text-decoration-color: #00af00\">501</span>, <span style=\"color: #00af00; text-decoration-color: #00af00\">10</span>)        │           <span style=\"color: #00af00; text-decoration-color: #00af00\">840</span> │\n",
              "├─────────────────────────────────┼────────────────────────┼───────────────┤\n",
              "│ time_distributed_1              │ (<span style=\"color: #00d7ff; text-decoration-color: #00d7ff\">None</span>, <span style=\"color: #00af00; text-decoration-color: #00af00\">501</span>, <span style=\"color: #00af00; text-decoration-color: #00af00\">1</span>)         │            <span style=\"color: #00af00; text-decoration-color: #00af00\">11</span> │\n",
              "│ (<span style=\"color: #0087ff; text-decoration-color: #0087ff\">TimeDistributed</span>)               │                        │               │\n",
              "└─────────────────────────────────┴────────────────────────┴───────────────┘\n",
              "</pre>\n"
            ]
          },
          "metadata": {}
        },
        {
          "output_type": "display_data",
          "data": {
            "text/plain": [
              "\u001b[1m Total params: \u001b[0m\u001b[38;5;34m1,331\u001b[0m (5.20 KB)\n"
            ],
            "text/html": [
              "<pre style=\"white-space:pre;overflow-x:auto;line-height:normal;font-family:Menlo,'DejaVu Sans Mono',consolas,'Courier New',monospace\"><span style=\"font-weight: bold\"> Total params: </span><span style=\"color: #00af00; text-decoration-color: #00af00\">1,331</span> (5.20 KB)\n",
              "</pre>\n"
            ]
          },
          "metadata": {}
        },
        {
          "output_type": "display_data",
          "data": {
            "text/plain": [
              "\u001b[1m Trainable params: \u001b[0m\u001b[38;5;34m1,331\u001b[0m (5.20 KB)\n"
            ],
            "text/html": [
              "<pre style=\"white-space:pre;overflow-x:auto;line-height:normal;font-family:Menlo,'DejaVu Sans Mono',consolas,'Courier New',monospace\"><span style=\"font-weight: bold\"> Trainable params: </span><span style=\"color: #00af00; text-decoration-color: #00af00\">1,331</span> (5.20 KB)\n",
              "</pre>\n"
            ]
          },
          "metadata": {}
        },
        {
          "output_type": "display_data",
          "data": {
            "text/plain": [
              "\u001b[1m Non-trainable params: \u001b[0m\u001b[38;5;34m0\u001b[0m (0.00 B)\n"
            ],
            "text/html": [
              "<pre style=\"white-space:pre;overflow-x:auto;line-height:normal;font-family:Menlo,'DejaVu Sans Mono',consolas,'Courier New',monospace\"><span style=\"font-weight: bold\"> Non-trainable params: </span><span style=\"color: #00af00; text-decoration-color: #00af00\">0</span> (0.00 B)\n",
              "</pre>\n"
            ]
          },
          "metadata": {}
        }
      ]
    },
    {
      "cell_type": "code",
      "source": [
        "\n",
        "# ===== Training =====\n",
        "autoencoder.fit(\n",
        "    data,  # Input data\n",
        "    data,  # Target data (reconstruct input)\n",
        "    epochs=5,\n",
        "    verbose=1\n",
        ")\n"
      ],
      "metadata": {
        "id": "f-R9_5E8vA3g",
        "colab": {
          "base_uri": "https://localhost:8080/"
        },
        "outputId": "20d2931a-981a-4646-c85b-aa5f10ce4fcd"
      },
      "execution_count": null,
      "outputs": [
        {
          "output_type": "stream",
          "name": "stdout",
          "text": [
            "Epoch 1/5\n",
            "\u001b[1m44/44\u001b[0m \u001b[32m━━━━━━━━━━━━━━━━━━━━\u001b[0m\u001b[37m\u001b[0m \u001b[1m47s\u001b[0m 431ms/step - loss: nan\n",
            "Epoch 2/5\n",
            "\u001b[1m44/44\u001b[0m \u001b[32m━━━━━━━━━━━━━━━━━━━━\u001b[0m\u001b[37m\u001b[0m \u001b[1m20s\u001b[0m 419ms/step - loss: nan\n",
            "Epoch 3/5\n",
            "\u001b[1m44/44\u001b[0m \u001b[32m━━━━━━━━━━━━━━━━━━━━\u001b[0m\u001b[37m\u001b[0m \u001b[1m18s\u001b[0m 418ms/step - loss: nan\n",
            "Epoch 4/5\n",
            "\u001b[1m44/44\u001b[0m \u001b[32m━━━━━━━━━━━━━━━━━━━━\u001b[0m\u001b[37m\u001b[0m \u001b[1m22s\u001b[0m 444ms/step - loss: nan\n",
            "Epoch 5/5\n",
            "\u001b[1m44/44\u001b[0m \u001b[32m━━━━━━━━━━━━━━━━━━━━\u001b[0m\u001b[37m\u001b[0m \u001b[1m18s\u001b[0m 413ms/step - loss: nan\n"
          ]
        },
        {
          "output_type": "execute_result",
          "data": {
            "text/plain": [
              "<keras.src.callbacks.history.History at 0x7caf34a3c810>"
            ]
          },
          "metadata": {},
          "execution_count": 13
        }
      ]
    },
    {
      "cell_type": "code",
      "source": [
        "# ===== Reconstruction Test =====\n",
        "reconstructed = autoencoder.predict(data)\n",
        "print(\"Original:\", data[0,:,0])\n",
        "print(\"Reconstructed:\", reconstructed[0,:,0])\n"
      ],
      "metadata": {
        "id": "yOKJZkYIvA50",
        "colab": {
          "base_uri": "https://localhost:8080/",
          "height": 211
        },
        "outputId": "e43671bd-2c14-4b29-dac0-ef57cf463e09"
      },
      "execution_count": null,
      "outputs": [
        {
          "output_type": "stream",
          "name": "stdout",
          "text": [
            "\u001b[1m44/44\u001b[0m \u001b[32m━━━━━━━━━━━━━━━━━━━━\u001b[0m\u001b[37m\u001b[0m \u001b[1m14s\u001b[0m 210ms/step\n"
          ]
        },
        {
          "output_type": "error",
          "ename": "IndexError",
          "evalue": "too many indices for array: array is 2-dimensional, but 3 were indexed",
          "traceback": [
            "\u001b[0;31m---------------------------------------------------------------------------\u001b[0m",
            "\u001b[0;31mIndexError\u001b[0m                                Traceback (most recent call last)",
            "\u001b[0;32m/tmp/ipython-input-14-1986596720.py\u001b[0m in \u001b[0;36m<cell line: 0>\u001b[0;34m()\u001b[0m\n\u001b[1;32m      1\u001b[0m \u001b[0;31m# ===== Reconstruction Test =====\u001b[0m\u001b[0;34m\u001b[0m\u001b[0;34m\u001b[0m\u001b[0m\n\u001b[1;32m      2\u001b[0m \u001b[0mreconstructed\u001b[0m \u001b[0;34m=\u001b[0m \u001b[0mautoencoder\u001b[0m\u001b[0;34m.\u001b[0m\u001b[0mpredict\u001b[0m\u001b[0;34m(\u001b[0m\u001b[0mdata\u001b[0m\u001b[0;34m)\u001b[0m\u001b[0;34m\u001b[0m\u001b[0;34m\u001b[0m\u001b[0m\n\u001b[0;32m----> 3\u001b[0;31m \u001b[0mprint\u001b[0m\u001b[0;34m(\u001b[0m\u001b[0;34m\"Original:\"\u001b[0m\u001b[0;34m,\u001b[0m \u001b[0mdata\u001b[0m\u001b[0;34m[\u001b[0m\u001b[0;36m0\u001b[0m\u001b[0;34m,\u001b[0m\u001b[0;34m:\u001b[0m\u001b[0;34m,\u001b[0m\u001b[0;36m0\u001b[0m\u001b[0;34m]\u001b[0m\u001b[0;34m)\u001b[0m\u001b[0;34m\u001b[0m\u001b[0;34m\u001b[0m\u001b[0m\n\u001b[0m\u001b[1;32m      4\u001b[0m \u001b[0mprint\u001b[0m\u001b[0;34m(\u001b[0m\u001b[0;34m\"Reconstructed:\"\u001b[0m\u001b[0;34m,\u001b[0m \u001b[0mreconstructed\u001b[0m\u001b[0;34m[\u001b[0m\u001b[0;36m0\u001b[0m\u001b[0;34m,\u001b[0m\u001b[0;34m:\u001b[0m\u001b[0;34m,\u001b[0m\u001b[0;36m0\u001b[0m\u001b[0;34m]\u001b[0m\u001b[0;34m)\u001b[0m\u001b[0;34m\u001b[0m\u001b[0;34m\u001b[0m\u001b[0m\n",
            "\u001b[0;31mIndexError\u001b[0m: too many indices for array: array is 2-dimensional, but 3 were indexed"
          ]
        }
      ]
    },
    {
      "cell_type": "code",
      "source": [
        "# Create a model that outputs the bottleneck layer\n",
        "encoder = models.Model(inputs=autoencoder.input, outputs=autoencoder.get_layer('bottleneck').output)\n",
        "\n",
        "# X is your input data (shape: num_samples, timesteps, features)\n",
        "bottleneck_features = encoder.predict(X)"
      ],
      "metadata": {
        "colab": {
          "base_uri": "https://localhost:8080/",
          "height": 211
        },
        "id": "ZzalrzWniUAj",
        "outputId": "282ce9d1-56b4-4d3a-fe91-e0a9cc422b92"
      },
      "execution_count": null,
      "outputs": [
        {
          "output_type": "error",
          "ename": "NameError",
          "evalue": "name 'models' is not defined",
          "traceback": [
            "\u001b[0;31m---------------------------------------------------------------------------\u001b[0m",
            "\u001b[0;31mNameError\u001b[0m                                 Traceback (most recent call last)",
            "\u001b[0;32m/tmp/ipython-input-43-529261613.py\u001b[0m in \u001b[0;36m<cell line: 0>\u001b[0;34m()\u001b[0m\n\u001b[1;32m      1\u001b[0m \u001b[0;31m# Create a model that outputs the bottleneck layer\u001b[0m\u001b[0;34m\u001b[0m\u001b[0;34m\u001b[0m\u001b[0m\n\u001b[0;32m----> 2\u001b[0;31m \u001b[0mencoder\u001b[0m \u001b[0;34m=\u001b[0m \u001b[0mmodels\u001b[0m\u001b[0;34m.\u001b[0m\u001b[0mModel\u001b[0m\u001b[0;34m(\u001b[0m\u001b[0minputs\u001b[0m\u001b[0;34m=\u001b[0m\u001b[0mautoencoder\u001b[0m\u001b[0;34m.\u001b[0m\u001b[0minput\u001b[0m\u001b[0;34m,\u001b[0m \u001b[0moutputs\u001b[0m\u001b[0;34m=\u001b[0m\u001b[0mautoencoder\u001b[0m\u001b[0;34m.\u001b[0m\u001b[0mget_layer\u001b[0m\u001b[0;34m(\u001b[0m\u001b[0;34m'bottleneck'\u001b[0m\u001b[0;34m)\u001b[0m\u001b[0;34m.\u001b[0m\u001b[0moutput\u001b[0m\u001b[0;34m)\u001b[0m\u001b[0;34m\u001b[0m\u001b[0;34m\u001b[0m\u001b[0m\n\u001b[0m\u001b[1;32m      3\u001b[0m \u001b[0;34m\u001b[0m\u001b[0m\n\u001b[1;32m      4\u001b[0m \u001b[0;31m# X is your input data (shape: num_samples, timesteps, features)\u001b[0m\u001b[0;34m\u001b[0m\u001b[0;34m\u001b[0m\u001b[0m\n\u001b[1;32m      5\u001b[0m \u001b[0mbottleneck_features\u001b[0m \u001b[0;34m=\u001b[0m \u001b[0mencoder\u001b[0m\u001b[0;34m.\u001b[0m\u001b[0mpredict\u001b[0m\u001b[0;34m(\u001b[0m\u001b[0mX\u001b[0m\u001b[0;34m)\u001b[0m\u001b[0;34m\u001b[0m\u001b[0;34m\u001b[0m\u001b[0m\n",
            "\u001b[0;31mNameError\u001b[0m: name 'models' is not defined"
          ]
        }
      ]
    },
    {
      "cell_type": "code",
      "source": [
        "import numpy as np\n",
        "import tensorflow as tf\n",
        "from tensorflow.keras import layers, models\n",
        "\n",
        "# Example parameters\n",
        "timesteps = 30   # Length of each time series\n",
        "features = 1     # Number of features per timestep (e.g., univariate)\n",
        "\n",
        "# Build the autoencoder\n",
        "input_layer = layers.Input(shape=(timesteps, features))\n",
        "\n",
        "# Encoder\n",
        "x = layers.LSTM(64, activation='relu', return_sequences=True)(input_layer)\n",
        "x = layers.LSTM(32, activation='relu')(x)\n",
        "bottleneck = layers.Dense(10, activation='relu', name='bottleneck')(x)  # Bottleneck layer\n",
        "\n",
        "# Decoder\n",
        "x = layers.RepeatVector(timesteps)(bottleneck)\n",
        "x = layers.LSTM(32, activation='relu', return_sequences=True)(x)\n",
        "x = layers.LSTM(64, activation='relu', return_sequences=True)(x)\n",
        "output_layer = layers.TimeDistributed(layers.Dense(features))(x)\n",
        "\n",
        "# Define the model\n",
        "autoencoder = models.Model(inputs=input_layer, outputs=output_layer)\n",
        "autoencoder.compile(optimizer='adam', loss='mse')\n",
        "\n",
        "# Print summary\n",
        "autoencoder.summary()\n"
      ],
      "metadata": {
        "id": "xMwd5letizGi",
        "colab": {
          "base_uri": "https://localhost:8080/",
          "height": 401
        },
        "outputId": "0a1eec07-3c50-458d-c5de-097da424b7cd"
      },
      "execution_count": null,
      "outputs": [
        {
          "output_type": "display_data",
          "data": {
            "text/plain": [
              "\u001b[1mModel: \"functional\"\u001b[0m\n"
            ],
            "text/html": [
              "<pre style=\"white-space:pre;overflow-x:auto;line-height:normal;font-family:Menlo,'DejaVu Sans Mono',consolas,'Courier New',monospace\"><span style=\"font-weight: bold\">Model: \"functional\"</span>\n",
              "</pre>\n"
            ]
          },
          "metadata": {}
        },
        {
          "output_type": "display_data",
          "data": {
            "text/plain": [
              "┏━━━━━━━━━━━━━━━━━━━━━━━━━━━━━━━━━┳━━━━━━━━━━━━━━━━━━━━━━━━┳━━━━━━━━━━━━━━━┓\n",
              "┃\u001b[1m \u001b[0m\u001b[1mLayer (type)                   \u001b[0m\u001b[1m \u001b[0m┃\u001b[1m \u001b[0m\u001b[1mOutput Shape          \u001b[0m\u001b[1m \u001b[0m┃\u001b[1m \u001b[0m\u001b[1m      Param #\u001b[0m\u001b[1m \u001b[0m┃\n",
              "┡━━━━━━━━━━━━━━━━━━━━━━━━━━━━━━━━━╇━━━━━━━━━━━━━━━━━━━━━━━━╇━━━━━━━━━━━━━━━┩\n",
              "│ input_layer (\u001b[38;5;33mInputLayer\u001b[0m)        │ (\u001b[38;5;45mNone\u001b[0m, \u001b[38;5;34m30\u001b[0m, \u001b[38;5;34m1\u001b[0m)          │             \u001b[38;5;34m0\u001b[0m │\n",
              "├─────────────────────────────────┼────────────────────────┼───────────────┤\n",
              "│ lstm (\u001b[38;5;33mLSTM\u001b[0m)                     │ (\u001b[38;5;45mNone\u001b[0m, \u001b[38;5;34m30\u001b[0m, \u001b[38;5;34m64\u001b[0m)         │        \u001b[38;5;34m16,896\u001b[0m │\n",
              "├─────────────────────────────────┼────────────────────────┼───────────────┤\n",
              "│ lstm_1 (\u001b[38;5;33mLSTM\u001b[0m)                   │ (\u001b[38;5;45mNone\u001b[0m, \u001b[38;5;34m32\u001b[0m)             │        \u001b[38;5;34m12,416\u001b[0m │\n",
              "├─────────────────────────────────┼────────────────────────┼───────────────┤\n",
              "│ bottleneck (\u001b[38;5;33mDense\u001b[0m)              │ (\u001b[38;5;45mNone\u001b[0m, \u001b[38;5;34m10\u001b[0m)             │           \u001b[38;5;34m330\u001b[0m │\n",
              "├─────────────────────────────────┼────────────────────────┼───────────────┤\n",
              "│ repeat_vector (\u001b[38;5;33mRepeatVector\u001b[0m)    │ (\u001b[38;5;45mNone\u001b[0m, \u001b[38;5;34m30\u001b[0m, \u001b[38;5;34m10\u001b[0m)         │             \u001b[38;5;34m0\u001b[0m │\n",
              "├─────────────────────────────────┼────────────────────────┼───────────────┤\n",
              "│ lstm_2 (\u001b[38;5;33mLSTM\u001b[0m)                   │ (\u001b[38;5;45mNone\u001b[0m, \u001b[38;5;34m30\u001b[0m, \u001b[38;5;34m32\u001b[0m)         │         \u001b[38;5;34m5,504\u001b[0m │\n",
              "├─────────────────────────────────┼────────────────────────┼───────────────┤\n",
              "│ lstm_3 (\u001b[38;5;33mLSTM\u001b[0m)                   │ (\u001b[38;5;45mNone\u001b[0m, \u001b[38;5;34m30\u001b[0m, \u001b[38;5;34m64\u001b[0m)         │        \u001b[38;5;34m24,832\u001b[0m │\n",
              "├─────────────────────────────────┼────────────────────────┼───────────────┤\n",
              "│ time_distributed                │ (\u001b[38;5;45mNone\u001b[0m, \u001b[38;5;34m30\u001b[0m, \u001b[38;5;34m1\u001b[0m)          │            \u001b[38;5;34m65\u001b[0m │\n",
              "│ (\u001b[38;5;33mTimeDistributed\u001b[0m)               │                        │               │\n",
              "└─────────────────────────────────┴────────────────────────┴───────────────┘\n"
            ],
            "text/html": [
              "<pre style=\"white-space:pre;overflow-x:auto;line-height:normal;font-family:Menlo,'DejaVu Sans Mono',consolas,'Courier New',monospace\">┏━━━━━━━━━━━━━━━━━━━━━━━━━━━━━━━━━┳━━━━━━━━━━━━━━━━━━━━━━━━┳━━━━━━━━━━━━━━━┓\n",
              "┃<span style=\"font-weight: bold\"> Layer (type)                    </span>┃<span style=\"font-weight: bold\"> Output Shape           </span>┃<span style=\"font-weight: bold\">       Param # </span>┃\n",
              "┡━━━━━━━━━━━━━━━━━━━━━━━━━━━━━━━━━╇━━━━━━━━━━━━━━━━━━━━━━━━╇━━━━━━━━━━━━━━━┩\n",
              "│ input_layer (<span style=\"color: #0087ff; text-decoration-color: #0087ff\">InputLayer</span>)        │ (<span style=\"color: #00d7ff; text-decoration-color: #00d7ff\">None</span>, <span style=\"color: #00af00; text-decoration-color: #00af00\">30</span>, <span style=\"color: #00af00; text-decoration-color: #00af00\">1</span>)          │             <span style=\"color: #00af00; text-decoration-color: #00af00\">0</span> │\n",
              "├─────────────────────────────────┼────────────────────────┼───────────────┤\n",
              "│ lstm (<span style=\"color: #0087ff; text-decoration-color: #0087ff\">LSTM</span>)                     │ (<span style=\"color: #00d7ff; text-decoration-color: #00d7ff\">None</span>, <span style=\"color: #00af00; text-decoration-color: #00af00\">30</span>, <span style=\"color: #00af00; text-decoration-color: #00af00\">64</span>)         │        <span style=\"color: #00af00; text-decoration-color: #00af00\">16,896</span> │\n",
              "├─────────────────────────────────┼────────────────────────┼───────────────┤\n",
              "│ lstm_1 (<span style=\"color: #0087ff; text-decoration-color: #0087ff\">LSTM</span>)                   │ (<span style=\"color: #00d7ff; text-decoration-color: #00d7ff\">None</span>, <span style=\"color: #00af00; text-decoration-color: #00af00\">32</span>)             │        <span style=\"color: #00af00; text-decoration-color: #00af00\">12,416</span> │\n",
              "├─────────────────────────────────┼────────────────────────┼───────────────┤\n",
              "│ bottleneck (<span style=\"color: #0087ff; text-decoration-color: #0087ff\">Dense</span>)              │ (<span style=\"color: #00d7ff; text-decoration-color: #00d7ff\">None</span>, <span style=\"color: #00af00; text-decoration-color: #00af00\">10</span>)             │           <span style=\"color: #00af00; text-decoration-color: #00af00\">330</span> │\n",
              "├─────────────────────────────────┼────────────────────────┼───────────────┤\n",
              "│ repeat_vector (<span style=\"color: #0087ff; text-decoration-color: #0087ff\">RepeatVector</span>)    │ (<span style=\"color: #00d7ff; text-decoration-color: #00d7ff\">None</span>, <span style=\"color: #00af00; text-decoration-color: #00af00\">30</span>, <span style=\"color: #00af00; text-decoration-color: #00af00\">10</span>)         │             <span style=\"color: #00af00; text-decoration-color: #00af00\">0</span> │\n",
              "├─────────────────────────────────┼────────────────────────┼───────────────┤\n",
              "│ lstm_2 (<span style=\"color: #0087ff; text-decoration-color: #0087ff\">LSTM</span>)                   │ (<span style=\"color: #00d7ff; text-decoration-color: #00d7ff\">None</span>, <span style=\"color: #00af00; text-decoration-color: #00af00\">30</span>, <span style=\"color: #00af00; text-decoration-color: #00af00\">32</span>)         │         <span style=\"color: #00af00; text-decoration-color: #00af00\">5,504</span> │\n",
              "├─────────────────────────────────┼────────────────────────┼───────────────┤\n",
              "│ lstm_3 (<span style=\"color: #0087ff; text-decoration-color: #0087ff\">LSTM</span>)                   │ (<span style=\"color: #00d7ff; text-decoration-color: #00d7ff\">None</span>, <span style=\"color: #00af00; text-decoration-color: #00af00\">30</span>, <span style=\"color: #00af00; text-decoration-color: #00af00\">64</span>)         │        <span style=\"color: #00af00; text-decoration-color: #00af00\">24,832</span> │\n",
              "├─────────────────────────────────┼────────────────────────┼───────────────┤\n",
              "│ time_distributed                │ (<span style=\"color: #00d7ff; text-decoration-color: #00d7ff\">None</span>, <span style=\"color: #00af00; text-decoration-color: #00af00\">30</span>, <span style=\"color: #00af00; text-decoration-color: #00af00\">1</span>)          │            <span style=\"color: #00af00; text-decoration-color: #00af00\">65</span> │\n",
              "│ (<span style=\"color: #0087ff; text-decoration-color: #0087ff\">TimeDistributed</span>)               │                        │               │\n",
              "└─────────────────────────────────┴────────────────────────┴───────────────┘\n",
              "</pre>\n"
            ]
          },
          "metadata": {}
        },
        {
          "output_type": "display_data",
          "data": {
            "text/plain": [
              "\u001b[1m Total params: \u001b[0m\u001b[38;5;34m60,043\u001b[0m (234.54 KB)\n"
            ],
            "text/html": [
              "<pre style=\"white-space:pre;overflow-x:auto;line-height:normal;font-family:Menlo,'DejaVu Sans Mono',consolas,'Courier New',monospace\"><span style=\"font-weight: bold\"> Total params: </span><span style=\"color: #00af00; text-decoration-color: #00af00\">60,043</span> (234.54 KB)\n",
              "</pre>\n"
            ]
          },
          "metadata": {}
        },
        {
          "output_type": "display_data",
          "data": {
            "text/plain": [
              "\u001b[1m Trainable params: \u001b[0m\u001b[38;5;34m60,043\u001b[0m (234.54 KB)\n"
            ],
            "text/html": [
              "<pre style=\"white-space:pre;overflow-x:auto;line-height:normal;font-family:Menlo,'DejaVu Sans Mono',consolas,'Courier New',monospace\"><span style=\"font-weight: bold\"> Trainable params: </span><span style=\"color: #00af00; text-decoration-color: #00af00\">60,043</span> (234.54 KB)\n",
              "</pre>\n"
            ]
          },
          "metadata": {}
        },
        {
          "output_type": "display_data",
          "data": {
            "text/plain": [
              "\u001b[1m Non-trainable params: \u001b[0m\u001b[38;5;34m0\u001b[0m (0.00 B)\n"
            ],
            "text/html": [
              "<pre style=\"white-space:pre;overflow-x:auto;line-height:normal;font-family:Menlo,'DejaVu Sans Mono',consolas,'Courier New',monospace\"><span style=\"font-weight: bold\"> Non-trainable params: </span><span style=\"color: #00af00; text-decoration-color: #00af00\">0</span> (0.00 B)\n",
              "</pre>\n"
            ]
          },
          "metadata": {}
        }
      ]
    },
    {
      "cell_type": "code",
      "source": [
        "# ==== 1. Load and Prepare Data ====\n",
        "# Load CSV (no header)\n",
        "df = pd.read_csv('data.csv', header=None)  # shape: (1395, 501)\n",
        "data = df.values                           # shape: (1395, 501)\n",
        "\n",
        "\n"
      ],
      "metadata": {
        "id": "X3QeWzhNkelX"
      },
      "execution_count": null,
      "outputs": []
    },
    {
      "cell_type": "code",
      "source": [
        "# Reshape to (samples, timesteps, features)\n",
        "data = data.reshape((data.shape[0], data.shape[1], 1))  # shape: (1395, 501, 1)\n",
        "\n",
        "# Optional: Clean NaN or inf values\n",
        "data = np.nan_to_num(data, nan=0.0, posinf=0.0, neginf=0.0)"
      ],
      "metadata": {
        "id": "m5PTwjfHkpee"
      },
      "execution_count": null,
      "outputs": []
    },
    {
      "cell_type": "code",
      "source": [
        "\n",
        "# ==== 2. Build LSTM Autoencoder ====\n",
        "timesteps = data.shape[1]   # 501\n",
        "features = data.shape[2]    # 1\n",
        "latent_dim = 64             # You can adjust this\n",
        "\n",
        "# Encoder\n",
        "encoder_inputs = Input(shape=(timesteps, features))\n",
        "encoder = LSTM(latent_dim, activation='tanh', return_sequences=False)(encoder_inputs)\n",
        "\n",
        "# Decoder\n",
        "decoder = RepeatVector(timesteps)(encoder)\n",
        "decoder = LSTM(latent_dim, activation='tanh', return_sequences=True)(decoder)\n",
        "decoder_outputs = TimeDistributed(Dense(features))(decoder)\n",
        "\n",
        "# Autoencoder Model\n",
        "autoencoder = Model(encoder_inputs, decoder_outputs)\n",
        "autoencoder.compile(optimizer=Adam(learning_rate=0.001, clipnorm=1.0), loss='mse')\n",
        "autoencoder.summary()\n",
        "\n"
      ],
      "metadata": {
        "colab": {
          "base_uri": "https://localhost:8080/",
          "height": 211
        },
        "id": "eCUHFa3Ykiiy",
        "outputId": "4b419e9b-81ac-4bab-c33a-f68318628415"
      },
      "execution_count": null,
      "outputs": [
        {
          "output_type": "error",
          "ename": "IndexError",
          "evalue": "tuple index out of range",
          "traceback": [
            "\u001b[0;31m---------------------------------------------------------------------------\u001b[0m",
            "\u001b[0;31mIndexError\u001b[0m                                Traceback (most recent call last)",
            "\u001b[0;32m/tmp/ipython-input-6-1695725451.py\u001b[0m in \u001b[0;36m<cell line: 0>\u001b[0;34m()\u001b[0m\n\u001b[1;32m      1\u001b[0m \u001b[0;31m# ==== 2. Build LSTM Autoencoder ====\u001b[0m\u001b[0;34m\u001b[0m\u001b[0;34m\u001b[0m\u001b[0m\n\u001b[1;32m      2\u001b[0m \u001b[0mtimesteps\u001b[0m \u001b[0;34m=\u001b[0m \u001b[0mdata\u001b[0m\u001b[0;34m.\u001b[0m\u001b[0mshape\u001b[0m\u001b[0;34m[\u001b[0m\u001b[0;36m1\u001b[0m\u001b[0;34m]\u001b[0m   \u001b[0;31m# 501\u001b[0m\u001b[0;34m\u001b[0m\u001b[0;34m\u001b[0m\u001b[0m\n\u001b[0;32m----> 3\u001b[0;31m \u001b[0mfeatures\u001b[0m \u001b[0;34m=\u001b[0m \u001b[0mdata\u001b[0m\u001b[0;34m.\u001b[0m\u001b[0mshape\u001b[0m\u001b[0;34m[\u001b[0m\u001b[0;36m2\u001b[0m\u001b[0;34m]\u001b[0m    \u001b[0;31m# 1\u001b[0m\u001b[0;34m\u001b[0m\u001b[0;34m\u001b[0m\u001b[0m\n\u001b[0m\u001b[1;32m      4\u001b[0m \u001b[0mlatent_dim\u001b[0m \u001b[0;34m=\u001b[0m \u001b[0;36m64\u001b[0m             \u001b[0;31m# You can adjust this\u001b[0m\u001b[0;34m\u001b[0m\u001b[0;34m\u001b[0m\u001b[0m\n\u001b[1;32m      5\u001b[0m \u001b[0;34m\u001b[0m\u001b[0m\n",
            "\u001b[0;31mIndexError\u001b[0m: tuple index out of range"
          ]
        }
      ]
    },
    {
      "cell_type": "code",
      "source": [
        "# ==== 3. Train the Autoencoder ====\n",
        "autoencoder.fit(\n",
        "    data,  # Input data\n",
        "    data,  # Target data (reconstruct input)\n",
        "    epochs=5,\n",
        "    batch_size=32,\n",
        "    verbose=1\n",
        ")"
      ],
      "metadata": {
        "colab": {
          "base_uri": "https://localhost:8080/",
          "height": 373
        },
        "id": "2Mg2Y9hmkg_2",
        "outputId": "440664e1-2651-4eb9-ae0d-fc299a0b2693"
      },
      "execution_count": null,
      "outputs": [
        {
          "output_type": "stream",
          "name": "stdout",
          "text": [
            "Epoch 1/5\n"
          ]
        },
        {
          "output_type": "error",
          "ename": "ValueError",
          "evalue": "Input 0 of layer \"functional\" is incompatible with the layer: expected shape=(None, 30, 1), found shape=(None, 501)",
          "traceback": [
            "\u001b[0;31m---------------------------------------------------------------------------\u001b[0m",
            "\u001b[0;31mValueError\u001b[0m                                Traceback (most recent call last)",
            "\u001b[0;32m/tmp/ipython-input-9-3938200359.py\u001b[0m in \u001b[0;36m<cell line: 0>\u001b[0;34m()\u001b[0m\n\u001b[1;32m      1\u001b[0m \u001b[0;31m# ==== 3. Train the Autoencoder ====\u001b[0m\u001b[0;34m\u001b[0m\u001b[0;34m\u001b[0m\u001b[0m\n\u001b[0;32m----> 2\u001b[0;31m autoencoder.fit(\n\u001b[0m\u001b[1;32m      3\u001b[0m     \u001b[0mdata\u001b[0m\u001b[0;34m,\u001b[0m  \u001b[0;31m# Input data\u001b[0m\u001b[0;34m\u001b[0m\u001b[0;34m\u001b[0m\u001b[0m\n\u001b[1;32m      4\u001b[0m     \u001b[0mdata\u001b[0m\u001b[0;34m,\u001b[0m  \u001b[0;31m# Target data (reconstruct input)\u001b[0m\u001b[0;34m\u001b[0m\u001b[0;34m\u001b[0m\u001b[0m\n\u001b[1;32m      5\u001b[0m     \u001b[0mepochs\u001b[0m\u001b[0;34m=\u001b[0m\u001b[0;36m5\u001b[0m\u001b[0;34m,\u001b[0m\u001b[0;34m\u001b[0m\u001b[0;34m\u001b[0m\u001b[0m\n",
            "\u001b[0;32m/usr/local/lib/python3.11/dist-packages/keras/src/utils/traceback_utils.py\u001b[0m in \u001b[0;36merror_handler\u001b[0;34m(*args, **kwargs)\u001b[0m\n\u001b[1;32m    120\u001b[0m             \u001b[0;31m# To get the full stack trace, call:\u001b[0m\u001b[0;34m\u001b[0m\u001b[0;34m\u001b[0m\u001b[0m\n\u001b[1;32m    121\u001b[0m             \u001b[0;31m# `keras.config.disable_traceback_filtering()`\u001b[0m\u001b[0;34m\u001b[0m\u001b[0;34m\u001b[0m\u001b[0m\n\u001b[0;32m--> 122\u001b[0;31m             \u001b[0;32mraise\u001b[0m \u001b[0me\u001b[0m\u001b[0;34m.\u001b[0m\u001b[0mwith_traceback\u001b[0m\u001b[0;34m(\u001b[0m\u001b[0mfiltered_tb\u001b[0m\u001b[0;34m)\u001b[0m \u001b[0;32mfrom\u001b[0m \u001b[0;32mNone\u001b[0m\u001b[0;34m\u001b[0m\u001b[0;34m\u001b[0m\u001b[0m\n\u001b[0m\u001b[1;32m    123\u001b[0m         \u001b[0;32mfinally\u001b[0m\u001b[0;34m:\u001b[0m\u001b[0;34m\u001b[0m\u001b[0;34m\u001b[0m\u001b[0m\n\u001b[1;32m    124\u001b[0m             \u001b[0;32mdel\u001b[0m \u001b[0mfiltered_tb\u001b[0m\u001b[0;34m\u001b[0m\u001b[0;34m\u001b[0m\u001b[0m\n",
            "\u001b[0;32m/usr/local/lib/python3.11/dist-packages/keras/src/layers/input_spec.py\u001b[0m in \u001b[0;36massert_input_compatibility\u001b[0;34m(input_spec, inputs, layer_name)\u001b[0m\n\u001b[1;32m    243\u001b[0m                 \u001b[0;32mif\u001b[0m \u001b[0mspec_dim\u001b[0m \u001b[0;32mis\u001b[0m \u001b[0;32mnot\u001b[0m \u001b[0;32mNone\u001b[0m \u001b[0;32mand\u001b[0m \u001b[0mdim\u001b[0m \u001b[0;32mis\u001b[0m \u001b[0;32mnot\u001b[0m \u001b[0;32mNone\u001b[0m\u001b[0;34m:\u001b[0m\u001b[0;34m\u001b[0m\u001b[0;34m\u001b[0m\u001b[0m\n\u001b[1;32m    244\u001b[0m                     \u001b[0;32mif\u001b[0m \u001b[0mspec_dim\u001b[0m \u001b[0;34m!=\u001b[0m \u001b[0mdim\u001b[0m\u001b[0;34m:\u001b[0m\u001b[0;34m\u001b[0m\u001b[0;34m\u001b[0m\u001b[0m\n\u001b[0;32m--> 245\u001b[0;31m                         raise ValueError(\n\u001b[0m\u001b[1;32m    246\u001b[0m                             \u001b[0;34mf'Input {input_index} of layer \"{layer_name}\" is '\u001b[0m\u001b[0;34m\u001b[0m\u001b[0;34m\u001b[0m\u001b[0m\n\u001b[1;32m    247\u001b[0m                             \u001b[0;34m\"incompatible with the layer: \"\u001b[0m\u001b[0;34m\u001b[0m\u001b[0;34m\u001b[0m\u001b[0m\n",
            "\u001b[0;31mValueError\u001b[0m: Input 0 of layer \"functional\" is incompatible with the layer: expected shape=(None, 30, 1), found shape=(None, 501)"
          ]
        }
      ]
    },
    {
      "cell_type": "code",
      "source": [
        "# ==== 4. Extract Bottleneck Features for Clustering ====\n",
        "from tensorflow.keras.models import Model\n",
        "\n",
        "encoder_model = Model(encoder_inputs, encoder)\n",
        "bottleneck_features = encoder_model.predict(data)  # shape: (1395, latent_dim)\n",
        "\n",
        "# Now you can use bottleneck_features for clustering!"
      ],
      "metadata": {
        "colab": {
          "base_uri": "https://localhost:8080/",
          "height": 211
        },
        "id": "c6MYO13blLdl",
        "outputId": "56e39934-2488-4ab5-87ef-0231b4647e24"
      },
      "execution_count": null,
      "outputs": [
        {
          "output_type": "error",
          "ename": "NameError",
          "evalue": "name 'encoder_inputs' is not defined",
          "traceback": [
            "\u001b[0;31m---------------------------------------------------------------------------\u001b[0m",
            "\u001b[0;31mNameError\u001b[0m                                 Traceback (most recent call last)",
            "\u001b[0;32m/tmp/ipython-input-8-2497610588.py\u001b[0m in \u001b[0;36m<cell line: 0>\u001b[0;34m()\u001b[0m\n\u001b[1;32m      2\u001b[0m \u001b[0;32mfrom\u001b[0m \u001b[0mtensorflow\u001b[0m\u001b[0;34m.\u001b[0m\u001b[0mkeras\u001b[0m\u001b[0;34m.\u001b[0m\u001b[0mmodels\u001b[0m \u001b[0;32mimport\u001b[0m \u001b[0mModel\u001b[0m\u001b[0;34m\u001b[0m\u001b[0;34m\u001b[0m\u001b[0m\n\u001b[1;32m      3\u001b[0m \u001b[0;34m\u001b[0m\u001b[0m\n\u001b[0;32m----> 4\u001b[0;31m \u001b[0mencoder_model\u001b[0m \u001b[0;34m=\u001b[0m \u001b[0mModel\u001b[0m\u001b[0;34m(\u001b[0m\u001b[0mencoder_inputs\u001b[0m\u001b[0;34m,\u001b[0m \u001b[0mencoder\u001b[0m\u001b[0;34m)\u001b[0m\u001b[0;34m\u001b[0m\u001b[0;34m\u001b[0m\u001b[0m\n\u001b[0m\u001b[1;32m      5\u001b[0m \u001b[0mbottleneck_features\u001b[0m \u001b[0;34m=\u001b[0m \u001b[0mencoder_model\u001b[0m\u001b[0;34m.\u001b[0m\u001b[0mpredict\u001b[0m\u001b[0;34m(\u001b[0m\u001b[0mdata\u001b[0m\u001b[0;34m)\u001b[0m  \u001b[0;31m# shape: (1395, latent_dim)\u001b[0m\u001b[0;34m\u001b[0m\u001b[0;34m\u001b[0m\u001b[0m\n\u001b[1;32m      6\u001b[0m \u001b[0;34m\u001b[0m\u001b[0m\n",
            "\u001b[0;31mNameError\u001b[0m: name 'encoder_inputs' is not defined"
          ]
        }
      ]
    },
    {
      "cell_type": "code",
      "source": [
        "from sklearn.cluster import KMeans\n",
        "\n",
        "# Assume you want 3 clusters\n",
        "kmeans = KMeans(n_clusters=3, random_state=0)\n",
        "clusters = kmeans.fit_predict(bottleneck_features)"
      ],
      "metadata": {
        "id": "efrG4Z1lmGhX"
      },
      "execution_count": null,
      "outputs": []
    },
    {
      "cell_type": "code",
      "source": [
        "print(clusters)"
      ],
      "metadata": {
        "colab": {
          "base_uri": "https://localhost:8080/"
        },
        "id": "0fpHnPBYmMWd",
        "outputId": "ebe4e5b7-23ef-4ee6-cacb-c1dea67ee062"
      },
      "execution_count": null,
      "outputs": [
        {
          "output_type": "stream",
          "name": "stdout",
          "text": [
            "[0 0 0 ... 0 0 0]\n"
          ]
        }
      ]
    },
    {
      "cell_type": "code",
      "source": [
        "import tensorflow as tf\n",
        "from tensorflow.keras.models import Model\n",
        "from tensorflow.keras.layers import Input, LSTM, RepeatVector, TimeDistributed, Dense\n",
        "from tensorflow.keras.optimizers import Adam\n",
        "import numpy as np\n",
        "import pandas as pd\n",
        "from sklearn.preprocessing import MinMaxScaler\n",
        "\n",
        "# ====== Configurations ======\n",
        "csv_file_path = '/content/drive/MyDrive/Colab Notebooks/Thesis/v_ego.csv'\n",
        "timesteps = 501  # Number of timesteps in each sequence\n",
        "features = 1     # Number of features per timestep (only v_ego)\n",
        "latent_dim = 10  # Size of latent vector\n",
        "\n",
        "# ====== Load and Preprocess Data ======\n",
        "# Load CSV\n",
        "df = pd.read_csv(csv_file_path)\n",
        "\n",
        "# Check and remove missing values\n",
        "df = df.dropna()\n",
        "\n",
        "# Ensure single-column input\n",
        "data_array = df.values.astype('float32').reshape(-1, 1)\n",
        "\n",
        "# Normalize using MinMaxScaler\n",
        "scaler = MinMaxScaler()\n",
        "data_array = scaler.fit_transform(data_array)\n",
        "\n",
        "# Create sequences of length `timesteps`\n",
        "total_samples = len(data_array) - timesteps\n",
        "if total_samples <= 0:\n",
        "    raise ValueError(\"Not enough data for the given number of timesteps.\")\n",
        "\n",
        "data = np.array([data_array[i:i+timesteps] for i in range(total_samples)])\n",
        "data = data.reshape((data.shape[0], timesteps, features))  # (samples, timesteps, features)\n",
        "\n",
        "# ====== Define LSTM Autoencoder ======\n",
        "# Encoder\n",
        "encoder_inputs = Input(shape=(timesteps, features))\n",
        "encoder = LSTM(latent_dim, activation='relu', return_sequences=False)(encoder_inputs)\n",
        "\n",
        "# Decoder\n",
        "decoder = RepeatVector(timesteps)(encoder)\n",
        "decoder = LSTM(latent_dim, activation='relu', return_sequences=True)(decoder)\n",
        "decoder_outputs = TimeDistributed(Dense(features))(decoder)\n",
        "\n",
        "# Autoencoder Model\n",
        "autoencoder = Model(encoder_inputs, decoder_outputs)\n",
        "autoencoder.compile(\n",
        "    optimizer=Adam(learning_rate=0.001, clipnorm=1.0),  # Clip gradients to prevent exploding\n",
        "    loss='mse'\n",
        ")\n",
        "autoencoder.summary()\n",
        "\n",
        "# ====== Train the Autoencoder ======\n",
        "autoencoder.fit(\n",
        "    data,  # input\n",
        "    data,  # target (reconstruct the input)\n",
        "    epochs=5,\n",
        "    batch_size=32,\n",
        "    verbose=1\n",
        ")\n",
        "\n",
        "# ====== Test Reconstruction ======\n",
        "reconstructed = autoencoder.predict(data)\n",
        "\n",
        "# Reverse normalization for comparison\n",
        "original = scaler.inverse_transform(data[0])\n",
        "recon = scaler.inverse_transform(reconstructed[0])\n",
        "\n",
        "# Print comparison\n",
        "print(\"Original:\", original[:, 0])\n",
        "print(\"Reconstructed:\", recon[:, 0])\n"
      ],
      "metadata": {
        "colab": {
          "base_uri": "https://localhost:8080/",
          "height": 679
        },
        "id": "TIG4jKpVT2hX",
        "outputId": "fcb8b361-f39b-4321-f556-e006462c9749"
      },
      "execution_count": null,
      "outputs": [
        {
          "output_type": "display_data",
          "data": {
            "text/plain": [
              "\u001b[1mModel: \"functional_2\"\u001b[0m\n"
            ],
            "text/html": [
              "<pre style=\"white-space:pre;overflow-x:auto;line-height:normal;font-family:Menlo,'DejaVu Sans Mono',consolas,'Courier New',monospace\"><span style=\"font-weight: bold\">Model: \"functional_2\"</span>\n",
              "</pre>\n"
            ]
          },
          "metadata": {}
        },
        {
          "output_type": "display_data",
          "data": {
            "text/plain": [
              "┏━━━━━━━━━━━━━━━━━━━━━━━━━━━━━━━━━┳━━━━━━━━━━━━━━━━━━━━━━━━┳━━━━━━━━━━━━━━━┓\n",
              "┃\u001b[1m \u001b[0m\u001b[1mLayer (type)                   \u001b[0m\u001b[1m \u001b[0m┃\u001b[1m \u001b[0m\u001b[1mOutput Shape          \u001b[0m\u001b[1m \u001b[0m┃\u001b[1m \u001b[0m\u001b[1m      Param #\u001b[0m\u001b[1m \u001b[0m┃\n",
              "┡━━━━━━━━━━━━━━━━━━━━━━━━━━━━━━━━━╇━━━━━━━━━━━━━━━━━━━━━━━━╇━━━━━━━━━━━━━━━┩\n",
              "│ input_layer_2 (\u001b[38;5;33mInputLayer\u001b[0m)      │ (\u001b[38;5;45mNone\u001b[0m, \u001b[38;5;34m501\u001b[0m, \u001b[38;5;34m1\u001b[0m)         │             \u001b[38;5;34m0\u001b[0m │\n",
              "├─────────────────────────────────┼────────────────────────┼───────────────┤\n",
              "│ lstm_6 (\u001b[38;5;33mLSTM\u001b[0m)                   │ (\u001b[38;5;45mNone\u001b[0m, \u001b[38;5;34m10\u001b[0m)             │           \u001b[38;5;34m480\u001b[0m │\n",
              "├─────────────────────────────────┼────────────────────────┼───────────────┤\n",
              "│ repeat_vector_2 (\u001b[38;5;33mRepeatVector\u001b[0m)  │ (\u001b[38;5;45mNone\u001b[0m, \u001b[38;5;34m501\u001b[0m, \u001b[38;5;34m10\u001b[0m)        │             \u001b[38;5;34m0\u001b[0m │\n",
              "├─────────────────────────────────┼────────────────────────┼───────────────┤\n",
              "│ lstm_7 (\u001b[38;5;33mLSTM\u001b[0m)                   │ (\u001b[38;5;45mNone\u001b[0m, \u001b[38;5;34m501\u001b[0m, \u001b[38;5;34m10\u001b[0m)        │           \u001b[38;5;34m840\u001b[0m │\n",
              "├─────────────────────────────────┼────────────────────────┼───────────────┤\n",
              "│ time_distributed_2              │ (\u001b[38;5;45mNone\u001b[0m, \u001b[38;5;34m501\u001b[0m, \u001b[38;5;34m1\u001b[0m)         │            \u001b[38;5;34m11\u001b[0m │\n",
              "│ (\u001b[38;5;33mTimeDistributed\u001b[0m)               │                        │               │\n",
              "└─────────────────────────────────┴────────────────────────┴───────────────┘\n"
            ],
            "text/html": [
              "<pre style=\"white-space:pre;overflow-x:auto;line-height:normal;font-family:Menlo,'DejaVu Sans Mono',consolas,'Courier New',monospace\">┏━━━━━━━━━━━━━━━━━━━━━━━━━━━━━━━━━┳━━━━━━━━━━━━━━━━━━━━━━━━┳━━━━━━━━━━━━━━━┓\n",
              "┃<span style=\"font-weight: bold\"> Layer (type)                    </span>┃<span style=\"font-weight: bold\"> Output Shape           </span>┃<span style=\"font-weight: bold\">       Param # </span>┃\n",
              "┡━━━━━━━━━━━━━━━━━━━━━━━━━━━━━━━━━╇━━━━━━━━━━━━━━━━━━━━━━━━╇━━━━━━━━━━━━━━━┩\n",
              "│ input_layer_2 (<span style=\"color: #0087ff; text-decoration-color: #0087ff\">InputLayer</span>)      │ (<span style=\"color: #00d7ff; text-decoration-color: #00d7ff\">None</span>, <span style=\"color: #00af00; text-decoration-color: #00af00\">501</span>, <span style=\"color: #00af00; text-decoration-color: #00af00\">1</span>)         │             <span style=\"color: #00af00; text-decoration-color: #00af00\">0</span> │\n",
              "├─────────────────────────────────┼────────────────────────┼───────────────┤\n",
              "│ lstm_6 (<span style=\"color: #0087ff; text-decoration-color: #0087ff\">LSTM</span>)                   │ (<span style=\"color: #00d7ff; text-decoration-color: #00d7ff\">None</span>, <span style=\"color: #00af00; text-decoration-color: #00af00\">10</span>)             │           <span style=\"color: #00af00; text-decoration-color: #00af00\">480</span> │\n",
              "├─────────────────────────────────┼────────────────────────┼───────────────┤\n",
              "│ repeat_vector_2 (<span style=\"color: #0087ff; text-decoration-color: #0087ff\">RepeatVector</span>)  │ (<span style=\"color: #00d7ff; text-decoration-color: #00d7ff\">None</span>, <span style=\"color: #00af00; text-decoration-color: #00af00\">501</span>, <span style=\"color: #00af00; text-decoration-color: #00af00\">10</span>)        │             <span style=\"color: #00af00; text-decoration-color: #00af00\">0</span> │\n",
              "├─────────────────────────────────┼────────────────────────┼───────────────┤\n",
              "│ lstm_7 (<span style=\"color: #0087ff; text-decoration-color: #0087ff\">LSTM</span>)                   │ (<span style=\"color: #00d7ff; text-decoration-color: #00d7ff\">None</span>, <span style=\"color: #00af00; text-decoration-color: #00af00\">501</span>, <span style=\"color: #00af00; text-decoration-color: #00af00\">10</span>)        │           <span style=\"color: #00af00; text-decoration-color: #00af00\">840</span> │\n",
              "├─────────────────────────────────┼────────────────────────┼───────────────┤\n",
              "│ time_distributed_2              │ (<span style=\"color: #00d7ff; text-decoration-color: #00d7ff\">None</span>, <span style=\"color: #00af00; text-decoration-color: #00af00\">501</span>, <span style=\"color: #00af00; text-decoration-color: #00af00\">1</span>)         │            <span style=\"color: #00af00; text-decoration-color: #00af00\">11</span> │\n",
              "│ (<span style=\"color: #0087ff; text-decoration-color: #0087ff\">TimeDistributed</span>)               │                        │               │\n",
              "└─────────────────────────────────┴────────────────────────┴───────────────┘\n",
              "</pre>\n"
            ]
          },
          "metadata": {}
        },
        {
          "output_type": "display_data",
          "data": {
            "text/plain": [
              "\u001b[1m Total params: \u001b[0m\u001b[38;5;34m1,331\u001b[0m (5.20 KB)\n"
            ],
            "text/html": [
              "<pre style=\"white-space:pre;overflow-x:auto;line-height:normal;font-family:Menlo,'DejaVu Sans Mono',consolas,'Courier New',monospace\"><span style=\"font-weight: bold\"> Total params: </span><span style=\"color: #00af00; text-decoration-color: #00af00\">1,331</span> (5.20 KB)\n",
              "</pre>\n"
            ]
          },
          "metadata": {}
        },
        {
          "output_type": "display_data",
          "data": {
            "text/plain": [
              "\u001b[1m Trainable params: \u001b[0m\u001b[38;5;34m1,331\u001b[0m (5.20 KB)\n"
            ],
            "text/html": [
              "<pre style=\"white-space:pre;overflow-x:auto;line-height:normal;font-family:Menlo,'DejaVu Sans Mono',consolas,'Courier New',monospace\"><span style=\"font-weight: bold\"> Trainable params: </span><span style=\"color: #00af00; text-decoration-color: #00af00\">1,331</span> (5.20 KB)\n",
              "</pre>\n"
            ]
          },
          "metadata": {}
        },
        {
          "output_type": "display_data",
          "data": {
            "text/plain": [
              "\u001b[1m Non-trainable params: \u001b[0m\u001b[38;5;34m0\u001b[0m (0.00 B)\n"
            ],
            "text/html": [
              "<pre style=\"white-space:pre;overflow-x:auto;line-height:normal;font-family:Menlo,'DejaVu Sans Mono',consolas,'Courier New',monospace\"><span style=\"font-weight: bold\"> Non-trainable params: </span><span style=\"color: #00af00; text-decoration-color: #00af00\">0</span> (0.00 B)\n",
              "</pre>\n"
            ]
          },
          "metadata": {}
        },
        {
          "output_type": "stream",
          "name": "stdout",
          "text": [
            "Epoch 1/5\n",
            "\u001b[1m12865/21810\u001b[0m \u001b[32m━━━━━━━━━━━\u001b[0m\u001b[37m━━━━━━━━━\u001b[0m \u001b[1m1:02:18\u001b[0m 418ms/step - loss: nan"
          ]
        },
        {
          "output_type": "error",
          "ename": "KeyboardInterrupt",
          "evalue": "",
          "traceback": [
            "\u001b[0;31m---------------------------------------------------------------------------\u001b[0m",
            "\u001b[0;31mKeyboardInterrupt\u001b[0m                         Traceback (most recent call last)",
            "\u001b[0;32m/tmp/ipython-input-15-3871987084.py\u001b[0m in \u001b[0;36m<cell line: 0>\u001b[0;34m()\u001b[0m\n\u001b[1;32m     54\u001b[0m \u001b[0;34m\u001b[0m\u001b[0m\n\u001b[1;32m     55\u001b[0m \u001b[0;31m# ====== Train the Autoencoder ======\u001b[0m\u001b[0;34m\u001b[0m\u001b[0;34m\u001b[0m\u001b[0m\n\u001b[0;32m---> 56\u001b[0;31m autoencoder.fit(\n\u001b[0m\u001b[1;32m     57\u001b[0m     \u001b[0mdata\u001b[0m\u001b[0;34m,\u001b[0m  \u001b[0;31m# input\u001b[0m\u001b[0;34m\u001b[0m\u001b[0;34m\u001b[0m\u001b[0m\n\u001b[1;32m     58\u001b[0m     \u001b[0mdata\u001b[0m\u001b[0;34m,\u001b[0m  \u001b[0;31m# target (reconstruct the input)\u001b[0m\u001b[0;34m\u001b[0m\u001b[0;34m\u001b[0m\u001b[0m\n",
            "\u001b[0;32m/usr/local/lib/python3.11/dist-packages/keras/src/utils/traceback_utils.py\u001b[0m in \u001b[0;36merror_handler\u001b[0;34m(*args, **kwargs)\u001b[0m\n\u001b[1;32m    115\u001b[0m         \u001b[0mfiltered_tb\u001b[0m \u001b[0;34m=\u001b[0m \u001b[0;32mNone\u001b[0m\u001b[0;34m\u001b[0m\u001b[0;34m\u001b[0m\u001b[0m\n\u001b[1;32m    116\u001b[0m         \u001b[0;32mtry\u001b[0m\u001b[0;34m:\u001b[0m\u001b[0;34m\u001b[0m\u001b[0;34m\u001b[0m\u001b[0m\n\u001b[0;32m--> 117\u001b[0;31m             \u001b[0;32mreturn\u001b[0m \u001b[0mfn\u001b[0m\u001b[0;34m(\u001b[0m\u001b[0;34m*\u001b[0m\u001b[0margs\u001b[0m\u001b[0;34m,\u001b[0m \u001b[0;34m**\u001b[0m\u001b[0mkwargs\u001b[0m\u001b[0;34m)\u001b[0m\u001b[0;34m\u001b[0m\u001b[0;34m\u001b[0m\u001b[0m\n\u001b[0m\u001b[1;32m    118\u001b[0m         \u001b[0;32mexcept\u001b[0m \u001b[0mException\u001b[0m \u001b[0;32mas\u001b[0m \u001b[0me\u001b[0m\u001b[0;34m:\u001b[0m\u001b[0;34m\u001b[0m\u001b[0;34m\u001b[0m\u001b[0m\n\u001b[1;32m    119\u001b[0m             \u001b[0mfiltered_tb\u001b[0m \u001b[0;34m=\u001b[0m \u001b[0m_process_traceback_frames\u001b[0m\u001b[0;34m(\u001b[0m\u001b[0me\u001b[0m\u001b[0;34m.\u001b[0m\u001b[0m__traceback__\u001b[0m\u001b[0;34m)\u001b[0m\u001b[0;34m\u001b[0m\u001b[0;34m\u001b[0m\u001b[0m\n",
            "\u001b[0;32m/usr/local/lib/python3.11/dist-packages/keras/src/backend/tensorflow/trainer.py\u001b[0m in \u001b[0;36mfit\u001b[0;34m(self, x, y, batch_size, epochs, verbose, callbacks, validation_split, validation_data, shuffle, class_weight, sample_weight, initial_epoch, steps_per_epoch, validation_steps, validation_batch_size, validation_freq)\u001b[0m\n\u001b[1;32m    369\u001b[0m                 \u001b[0;32mfor\u001b[0m \u001b[0mstep\u001b[0m\u001b[0;34m,\u001b[0m \u001b[0miterator\u001b[0m \u001b[0;32min\u001b[0m \u001b[0mepoch_iterator\u001b[0m\u001b[0;34m:\u001b[0m\u001b[0;34m\u001b[0m\u001b[0;34m\u001b[0m\u001b[0m\n\u001b[1;32m    370\u001b[0m                     \u001b[0mcallbacks\u001b[0m\u001b[0;34m.\u001b[0m\u001b[0mon_train_batch_begin\u001b[0m\u001b[0;34m(\u001b[0m\u001b[0mstep\u001b[0m\u001b[0;34m)\u001b[0m\u001b[0;34m\u001b[0m\u001b[0;34m\u001b[0m\u001b[0m\n\u001b[0;32m--> 371\u001b[0;31m                     \u001b[0mlogs\u001b[0m \u001b[0;34m=\u001b[0m \u001b[0mself\u001b[0m\u001b[0;34m.\u001b[0m\u001b[0mtrain_function\u001b[0m\u001b[0;34m(\u001b[0m\u001b[0miterator\u001b[0m\u001b[0;34m)\u001b[0m\u001b[0;34m\u001b[0m\u001b[0;34m\u001b[0m\u001b[0m\n\u001b[0m\u001b[1;32m    372\u001b[0m                     \u001b[0mcallbacks\u001b[0m\u001b[0;34m.\u001b[0m\u001b[0mon_train_batch_end\u001b[0m\u001b[0;34m(\u001b[0m\u001b[0mstep\u001b[0m\u001b[0;34m,\u001b[0m \u001b[0mlogs\u001b[0m\u001b[0;34m)\u001b[0m\u001b[0;34m\u001b[0m\u001b[0;34m\u001b[0m\u001b[0m\n\u001b[1;32m    373\u001b[0m                     \u001b[0;32mif\u001b[0m \u001b[0mself\u001b[0m\u001b[0;34m.\u001b[0m\u001b[0mstop_training\u001b[0m\u001b[0;34m:\u001b[0m\u001b[0;34m\u001b[0m\u001b[0;34m\u001b[0m\u001b[0m\n",
            "\u001b[0;32m/usr/local/lib/python3.11/dist-packages/keras/src/backend/tensorflow/trainer.py\u001b[0m in \u001b[0;36mfunction\u001b[0;34m(iterator)\u001b[0m\n\u001b[1;32m    217\u001b[0m                 \u001b[0miterator\u001b[0m\u001b[0;34m,\u001b[0m \u001b[0;34m(\u001b[0m\u001b[0mtf\u001b[0m\u001b[0;34m.\u001b[0m\u001b[0mdata\u001b[0m\u001b[0;34m.\u001b[0m\u001b[0mIterator\u001b[0m\u001b[0;34m,\u001b[0m \u001b[0mtf\u001b[0m\u001b[0;34m.\u001b[0m\u001b[0mdistribute\u001b[0m\u001b[0;34m.\u001b[0m\u001b[0mDistributedIterator\u001b[0m\u001b[0;34m)\u001b[0m\u001b[0;34m\u001b[0m\u001b[0;34m\u001b[0m\u001b[0m\n\u001b[1;32m    218\u001b[0m             ):\n\u001b[0;32m--> 219\u001b[0;31m                 \u001b[0mopt_outputs\u001b[0m \u001b[0;34m=\u001b[0m \u001b[0mmulti_step_on_iterator\u001b[0m\u001b[0;34m(\u001b[0m\u001b[0miterator\u001b[0m\u001b[0;34m)\u001b[0m\u001b[0;34m\u001b[0m\u001b[0;34m\u001b[0m\u001b[0m\n\u001b[0m\u001b[1;32m    220\u001b[0m                 \u001b[0;32mif\u001b[0m \u001b[0;32mnot\u001b[0m \u001b[0mopt_outputs\u001b[0m\u001b[0;34m.\u001b[0m\u001b[0mhas_value\u001b[0m\u001b[0;34m(\u001b[0m\u001b[0;34m)\u001b[0m\u001b[0;34m:\u001b[0m\u001b[0;34m\u001b[0m\u001b[0;34m\u001b[0m\u001b[0m\n\u001b[1;32m    221\u001b[0m                     \u001b[0;32mraise\u001b[0m \u001b[0mStopIteration\u001b[0m\u001b[0;34m\u001b[0m\u001b[0;34m\u001b[0m\u001b[0m\n",
            "\u001b[0;32m/usr/local/lib/python3.11/dist-packages/tensorflow/python/util/traceback_utils.py\u001b[0m in \u001b[0;36merror_handler\u001b[0;34m(*args, **kwargs)\u001b[0m\n\u001b[1;32m    148\u001b[0m     \u001b[0mfiltered_tb\u001b[0m \u001b[0;34m=\u001b[0m \u001b[0;32mNone\u001b[0m\u001b[0;34m\u001b[0m\u001b[0;34m\u001b[0m\u001b[0m\n\u001b[1;32m    149\u001b[0m     \u001b[0;32mtry\u001b[0m\u001b[0;34m:\u001b[0m\u001b[0;34m\u001b[0m\u001b[0;34m\u001b[0m\u001b[0m\n\u001b[0;32m--> 150\u001b[0;31m       \u001b[0;32mreturn\u001b[0m \u001b[0mfn\u001b[0m\u001b[0;34m(\u001b[0m\u001b[0;34m*\u001b[0m\u001b[0margs\u001b[0m\u001b[0;34m,\u001b[0m \u001b[0;34m**\u001b[0m\u001b[0mkwargs\u001b[0m\u001b[0;34m)\u001b[0m\u001b[0;34m\u001b[0m\u001b[0;34m\u001b[0m\u001b[0m\n\u001b[0m\u001b[1;32m    151\u001b[0m     \u001b[0;32mexcept\u001b[0m \u001b[0mException\u001b[0m \u001b[0;32mas\u001b[0m \u001b[0me\u001b[0m\u001b[0;34m:\u001b[0m\u001b[0;34m\u001b[0m\u001b[0;34m\u001b[0m\u001b[0m\n\u001b[1;32m    152\u001b[0m       \u001b[0mfiltered_tb\u001b[0m \u001b[0;34m=\u001b[0m \u001b[0m_process_traceback_frames\u001b[0m\u001b[0;34m(\u001b[0m\u001b[0me\u001b[0m\u001b[0;34m.\u001b[0m\u001b[0m__traceback__\u001b[0m\u001b[0;34m)\u001b[0m\u001b[0;34m\u001b[0m\u001b[0;34m\u001b[0m\u001b[0m\n",
            "\u001b[0;32m/usr/local/lib/python3.11/dist-packages/tensorflow/python/eager/polymorphic_function/polymorphic_function.py\u001b[0m in \u001b[0;36m__call__\u001b[0;34m(self, *args, **kwds)\u001b[0m\n\u001b[1;32m    831\u001b[0m \u001b[0;34m\u001b[0m\u001b[0m\n\u001b[1;32m    832\u001b[0m       \u001b[0;32mwith\u001b[0m \u001b[0mOptionalXlaContext\u001b[0m\u001b[0;34m(\u001b[0m\u001b[0mself\u001b[0m\u001b[0;34m.\u001b[0m\u001b[0m_jit_compile\u001b[0m\u001b[0;34m)\u001b[0m\u001b[0;34m:\u001b[0m\u001b[0;34m\u001b[0m\u001b[0;34m\u001b[0m\u001b[0m\n\u001b[0;32m--> 833\u001b[0;31m         \u001b[0mresult\u001b[0m \u001b[0;34m=\u001b[0m \u001b[0mself\u001b[0m\u001b[0;34m.\u001b[0m\u001b[0m_call\u001b[0m\u001b[0;34m(\u001b[0m\u001b[0;34m*\u001b[0m\u001b[0margs\u001b[0m\u001b[0;34m,\u001b[0m \u001b[0;34m**\u001b[0m\u001b[0mkwds\u001b[0m\u001b[0;34m)\u001b[0m\u001b[0;34m\u001b[0m\u001b[0;34m\u001b[0m\u001b[0m\n\u001b[0m\u001b[1;32m    834\u001b[0m \u001b[0;34m\u001b[0m\u001b[0m\n\u001b[1;32m    835\u001b[0m       \u001b[0mnew_tracing_count\u001b[0m \u001b[0;34m=\u001b[0m \u001b[0mself\u001b[0m\u001b[0;34m.\u001b[0m\u001b[0mexperimental_get_tracing_count\u001b[0m\u001b[0;34m(\u001b[0m\u001b[0;34m)\u001b[0m\u001b[0;34m\u001b[0m\u001b[0;34m\u001b[0m\u001b[0m\n",
            "\u001b[0;32m/usr/local/lib/python3.11/dist-packages/tensorflow/python/eager/polymorphic_function/polymorphic_function.py\u001b[0m in \u001b[0;36m_call\u001b[0;34m(self, *args, **kwds)\u001b[0m\n\u001b[1;32m    876\u001b[0m       \u001b[0;31m# In this case we have not created variables on the first call. So we can\u001b[0m\u001b[0;34m\u001b[0m\u001b[0;34m\u001b[0m\u001b[0m\n\u001b[1;32m    877\u001b[0m       \u001b[0;31m# run the first trace but we should fail if variables are created.\u001b[0m\u001b[0;34m\u001b[0m\u001b[0;34m\u001b[0m\u001b[0m\n\u001b[0;32m--> 878\u001b[0;31m       results = tracing_compilation.call_function(\n\u001b[0m\u001b[1;32m    879\u001b[0m           \u001b[0margs\u001b[0m\u001b[0;34m,\u001b[0m \u001b[0mkwds\u001b[0m\u001b[0;34m,\u001b[0m \u001b[0mself\u001b[0m\u001b[0;34m.\u001b[0m\u001b[0m_variable_creation_config\u001b[0m\u001b[0;34m\u001b[0m\u001b[0;34m\u001b[0m\u001b[0m\n\u001b[1;32m    880\u001b[0m       )\n",
            "\u001b[0;32m/usr/local/lib/python3.11/dist-packages/tensorflow/python/eager/polymorphic_function/tracing_compilation.py\u001b[0m in \u001b[0;36mcall_function\u001b[0;34m(args, kwargs, tracing_options)\u001b[0m\n\u001b[1;32m    137\u001b[0m   \u001b[0mbound_args\u001b[0m \u001b[0;34m=\u001b[0m \u001b[0mfunction\u001b[0m\u001b[0;34m.\u001b[0m\u001b[0mfunction_type\u001b[0m\u001b[0;34m.\u001b[0m\u001b[0mbind\u001b[0m\u001b[0;34m(\u001b[0m\u001b[0;34m*\u001b[0m\u001b[0margs\u001b[0m\u001b[0;34m,\u001b[0m \u001b[0;34m**\u001b[0m\u001b[0mkwargs\u001b[0m\u001b[0;34m)\u001b[0m\u001b[0;34m\u001b[0m\u001b[0;34m\u001b[0m\u001b[0m\n\u001b[1;32m    138\u001b[0m   \u001b[0mflat_inputs\u001b[0m \u001b[0;34m=\u001b[0m \u001b[0mfunction\u001b[0m\u001b[0;34m.\u001b[0m\u001b[0mfunction_type\u001b[0m\u001b[0;34m.\u001b[0m\u001b[0munpack_inputs\u001b[0m\u001b[0;34m(\u001b[0m\u001b[0mbound_args\u001b[0m\u001b[0;34m)\u001b[0m\u001b[0;34m\u001b[0m\u001b[0;34m\u001b[0m\u001b[0m\n\u001b[0;32m--> 139\u001b[0;31m   return function._call_flat(  # pylint: disable=protected-access\n\u001b[0m\u001b[1;32m    140\u001b[0m       \u001b[0mflat_inputs\u001b[0m\u001b[0;34m,\u001b[0m \u001b[0mcaptured_inputs\u001b[0m\u001b[0;34m=\u001b[0m\u001b[0mfunction\u001b[0m\u001b[0;34m.\u001b[0m\u001b[0mcaptured_inputs\u001b[0m\u001b[0;34m\u001b[0m\u001b[0;34m\u001b[0m\u001b[0m\n\u001b[1;32m    141\u001b[0m   )\n",
            "\u001b[0;32m/usr/local/lib/python3.11/dist-packages/tensorflow/python/eager/polymorphic_function/concrete_function.py\u001b[0m in \u001b[0;36m_call_flat\u001b[0;34m(self, tensor_inputs, captured_inputs)\u001b[0m\n\u001b[1;32m   1320\u001b[0m         and executing_eagerly):\n\u001b[1;32m   1321\u001b[0m       \u001b[0;31m# No tape is watching; skip to running the function.\u001b[0m\u001b[0;34m\u001b[0m\u001b[0;34m\u001b[0m\u001b[0m\n\u001b[0;32m-> 1322\u001b[0;31m       \u001b[0;32mreturn\u001b[0m \u001b[0mself\u001b[0m\u001b[0;34m.\u001b[0m\u001b[0m_inference_function\u001b[0m\u001b[0;34m.\u001b[0m\u001b[0mcall_preflattened\u001b[0m\u001b[0;34m(\u001b[0m\u001b[0margs\u001b[0m\u001b[0;34m)\u001b[0m\u001b[0;34m\u001b[0m\u001b[0;34m\u001b[0m\u001b[0m\n\u001b[0m\u001b[1;32m   1323\u001b[0m     forward_backward = self._select_forward_and_backward_functions(\n\u001b[1;32m   1324\u001b[0m         \u001b[0margs\u001b[0m\u001b[0;34m,\u001b[0m\u001b[0;34m\u001b[0m\u001b[0;34m\u001b[0m\u001b[0m\n",
            "\u001b[0;32m/usr/local/lib/python3.11/dist-packages/tensorflow/python/eager/polymorphic_function/atomic_function.py\u001b[0m in \u001b[0;36mcall_preflattened\u001b[0;34m(self, args)\u001b[0m\n\u001b[1;32m    214\u001b[0m   \u001b[0;32mdef\u001b[0m \u001b[0mcall_preflattened\u001b[0m\u001b[0;34m(\u001b[0m\u001b[0mself\u001b[0m\u001b[0;34m,\u001b[0m \u001b[0margs\u001b[0m\u001b[0;34m:\u001b[0m \u001b[0mSequence\u001b[0m\u001b[0;34m[\u001b[0m\u001b[0mcore\u001b[0m\u001b[0;34m.\u001b[0m\u001b[0mTensor\u001b[0m\u001b[0;34m]\u001b[0m\u001b[0;34m)\u001b[0m \u001b[0;34m->\u001b[0m \u001b[0mAny\u001b[0m\u001b[0;34m:\u001b[0m\u001b[0;34m\u001b[0m\u001b[0;34m\u001b[0m\u001b[0m\n\u001b[1;32m    215\u001b[0m     \u001b[0;34m\"\"\"Calls with flattened tensor inputs and returns the structured output.\"\"\"\u001b[0m\u001b[0;34m\u001b[0m\u001b[0;34m\u001b[0m\u001b[0m\n\u001b[0;32m--> 216\u001b[0;31m     \u001b[0mflat_outputs\u001b[0m \u001b[0;34m=\u001b[0m \u001b[0mself\u001b[0m\u001b[0;34m.\u001b[0m\u001b[0mcall_flat\u001b[0m\u001b[0;34m(\u001b[0m\u001b[0;34m*\u001b[0m\u001b[0margs\u001b[0m\u001b[0;34m)\u001b[0m\u001b[0;34m\u001b[0m\u001b[0;34m\u001b[0m\u001b[0m\n\u001b[0m\u001b[1;32m    217\u001b[0m     \u001b[0;32mreturn\u001b[0m \u001b[0mself\u001b[0m\u001b[0;34m.\u001b[0m\u001b[0mfunction_type\u001b[0m\u001b[0;34m.\u001b[0m\u001b[0mpack_output\u001b[0m\u001b[0;34m(\u001b[0m\u001b[0mflat_outputs\u001b[0m\u001b[0;34m)\u001b[0m\u001b[0;34m\u001b[0m\u001b[0;34m\u001b[0m\u001b[0m\n\u001b[1;32m    218\u001b[0m \u001b[0;34m\u001b[0m\u001b[0m\n",
            "\u001b[0;32m/usr/local/lib/python3.11/dist-packages/tensorflow/python/eager/polymorphic_function/atomic_function.py\u001b[0m in \u001b[0;36mcall_flat\u001b[0;34m(self, *args)\u001b[0m\n\u001b[1;32m    249\u001b[0m         \u001b[0;32mwith\u001b[0m \u001b[0mrecord\u001b[0m\u001b[0;34m.\u001b[0m\u001b[0mstop_recording\u001b[0m\u001b[0;34m(\u001b[0m\u001b[0;34m)\u001b[0m\u001b[0;34m:\u001b[0m\u001b[0;34m\u001b[0m\u001b[0;34m\u001b[0m\u001b[0m\n\u001b[1;32m    250\u001b[0m           \u001b[0;32mif\u001b[0m \u001b[0mself\u001b[0m\u001b[0;34m.\u001b[0m\u001b[0m_bound_context\u001b[0m\u001b[0;34m.\u001b[0m\u001b[0mexecuting_eagerly\u001b[0m\u001b[0;34m(\u001b[0m\u001b[0;34m)\u001b[0m\u001b[0;34m:\u001b[0m\u001b[0;34m\u001b[0m\u001b[0;34m\u001b[0m\u001b[0m\n\u001b[0;32m--> 251\u001b[0;31m             outputs = self._bound_context.call_function(\n\u001b[0m\u001b[1;32m    252\u001b[0m                 \u001b[0mself\u001b[0m\u001b[0;34m.\u001b[0m\u001b[0mname\u001b[0m\u001b[0;34m,\u001b[0m\u001b[0;34m\u001b[0m\u001b[0;34m\u001b[0m\u001b[0m\n\u001b[1;32m    253\u001b[0m                 \u001b[0mlist\u001b[0m\u001b[0;34m(\u001b[0m\u001b[0margs\u001b[0m\u001b[0;34m)\u001b[0m\u001b[0;34m,\u001b[0m\u001b[0;34m\u001b[0m\u001b[0;34m\u001b[0m\u001b[0m\n",
            "\u001b[0;32m/usr/local/lib/python3.11/dist-packages/tensorflow/python/eager/context.py\u001b[0m in \u001b[0;36mcall_function\u001b[0;34m(self, name, tensor_inputs, num_outputs)\u001b[0m\n\u001b[1;32m   1681\u001b[0m     \u001b[0mcancellation_context\u001b[0m \u001b[0;34m=\u001b[0m \u001b[0mcancellation\u001b[0m\u001b[0;34m.\u001b[0m\u001b[0mcontext\u001b[0m\u001b[0;34m(\u001b[0m\u001b[0;34m)\u001b[0m\u001b[0;34m\u001b[0m\u001b[0;34m\u001b[0m\u001b[0m\n\u001b[1;32m   1682\u001b[0m     \u001b[0;32mif\u001b[0m \u001b[0mcancellation_context\u001b[0m \u001b[0;32mis\u001b[0m \u001b[0;32mNone\u001b[0m\u001b[0;34m:\u001b[0m\u001b[0;34m\u001b[0m\u001b[0;34m\u001b[0m\u001b[0m\n\u001b[0;32m-> 1683\u001b[0;31m       outputs = execute.execute(\n\u001b[0m\u001b[1;32m   1684\u001b[0m           \u001b[0mname\u001b[0m\u001b[0;34m.\u001b[0m\u001b[0mdecode\u001b[0m\u001b[0;34m(\u001b[0m\u001b[0;34m\"utf-8\"\u001b[0m\u001b[0;34m)\u001b[0m\u001b[0;34m,\u001b[0m\u001b[0;34m\u001b[0m\u001b[0;34m\u001b[0m\u001b[0m\n\u001b[1;32m   1685\u001b[0m           \u001b[0mnum_outputs\u001b[0m\u001b[0;34m=\u001b[0m\u001b[0mnum_outputs\u001b[0m\u001b[0;34m,\u001b[0m\u001b[0;34m\u001b[0m\u001b[0;34m\u001b[0m\u001b[0m\n",
            "\u001b[0;32m/usr/local/lib/python3.11/dist-packages/tensorflow/python/eager/execute.py\u001b[0m in \u001b[0;36mquick_execute\u001b[0;34m(op_name, num_outputs, inputs, attrs, ctx, name)\u001b[0m\n\u001b[1;32m     51\u001b[0m   \u001b[0;32mtry\u001b[0m\u001b[0;34m:\u001b[0m\u001b[0;34m\u001b[0m\u001b[0;34m\u001b[0m\u001b[0m\n\u001b[1;32m     52\u001b[0m     \u001b[0mctx\u001b[0m\u001b[0;34m.\u001b[0m\u001b[0mensure_initialized\u001b[0m\u001b[0;34m(\u001b[0m\u001b[0;34m)\u001b[0m\u001b[0;34m\u001b[0m\u001b[0;34m\u001b[0m\u001b[0m\n\u001b[0;32m---> 53\u001b[0;31m     tensors = pywrap_tfe.TFE_Py_Execute(ctx._handle, device_name, op_name,\n\u001b[0m\u001b[1;32m     54\u001b[0m                                         inputs, attrs, num_outputs)\n\u001b[1;32m     55\u001b[0m   \u001b[0;32mexcept\u001b[0m \u001b[0mcore\u001b[0m\u001b[0;34m.\u001b[0m\u001b[0m_NotOkStatusException\u001b[0m \u001b[0;32mas\u001b[0m \u001b[0me\u001b[0m\u001b[0;34m:\u001b[0m\u001b[0;34m\u001b[0m\u001b[0;34m\u001b[0m\u001b[0m\n",
            "\u001b[0;31mKeyboardInterrupt\u001b[0m: "
          ]
        }
      ]
    },
    {
      "cell_type": "code",
      "source": [
        "data = data.reshape((data.shape[0], data.shape[1], 1))\n",
        "df.shape\n"
      ],
      "metadata": {
        "colab": {
          "base_uri": "https://localhost:8080/"
        },
        "id": "jifLXmwKovpo",
        "outputId": "e0c72633-435d-49e2-d4a5-b38bdac1b59f"
      },
      "execution_count": null,
      "outputs": [
        {
          "output_type": "execute_result",
          "data": {
            "text/plain": [
              "(1394, 501)"
            ]
          },
          "metadata": {},
          "execution_count": 21
        }
      ]
    },
    {
      "cell_type": "code",
      "source": [
        "data = np.array([data_array[i:i+timesteps] for i in range(total_samples)])\n",
        "data = data.reshape((data.shape[0], timesteps, features))  # (samples, timesteps, features)\n",
        "data.shape"
      ],
      "metadata": {
        "colab": {
          "base_uri": "https://localhost:8080/"
        },
        "id": "FhwB3iU0pBxL",
        "outputId": "6d3036cc-602f-438d-a847-c70b4f215685"
      },
      "execution_count": null,
      "outputs": [
        {
          "output_type": "execute_result",
          "data": {
            "text/plain": [
              "(697893, 501, 1)"
            ]
          },
          "metadata": {},
          "execution_count": 18
        }
      ]
    },
    {
      "cell_type": "code",
      "source": [
        "data_array = df.values.astype('float32').reshape(-1, 1)\n",
        "data_array.shape"
      ],
      "metadata": {
        "colab": {
          "base_uri": "https://localhost:8080/"
        },
        "id": "kqmTHVAepsC5",
        "outputId": "83ad12a4-6571-4bde-815d-b13bc318be84"
      },
      "execution_count": null,
      "outputs": [
        {
          "output_type": "execute_result",
          "data": {
            "text/plain": [
              "(698394, 1)"
            ]
          },
          "metadata": {},
          "execution_count": 20
        }
      ]
    },
    {
      "cell_type": "code",
      "source": [
        "import tensorflow as tf\n",
        "from tensorflow.keras.models import Model\n",
        "from tensorflow.keras.layers import Input, LSTM, RepeatVector, TimeDistributed, Dense\n",
        "from tensorflow.keras.optimizers import Adam\n",
        "import numpy as np\n",
        "import pandas as pd\n",
        "from sklearn.preprocessing import MinMaxScaler\n",
        "\n",
        "# ======= CONFIG =======\n",
        "csv_file_path = '/content/drive/MyDrive/Colab Notebooks/Thesis/v_ego.csv'\n",
        "timesteps = 501\n",
        "latent_dim = 10\n",
        "max_samples = 5000  # Limit data for quick test\n",
        "\n",
        "# ======= LOAD & VERIFY DATA =======\n",
        "df = pd.read_csv(csv_file_path)\n",
        "print(\"Loaded df shape:\", df.shape)\n",
        "\n",
        "# Sanity check for shape\n",
        "if df.shape[0] < timesteps:\n",
        "    raise ValueError(f\"Not enough rows in CSV ({df.shape[0]}) for the given timestep length ({timesteps}).\")\n",
        "\n",
        "df = df.dropna()\n",
        "\n",
        "# Enforce correct shape (N, 1)\n",
        "if df.ndim == 1:\n",
        "    df = df.to_frame()\n",
        "\n",
        "# ======= NORMALIZE =======\n",
        "scaler = MinMaxScaler()\n",
        "data_array = scaler.fit_transform(df.values.astype('float32'))\n",
        "print(\"Normalized data_array shape:\", data_array.shape)\n",
        "\n",
        "# ======= CREATE SEQUENCES =======\n",
        "# Overlapping sliding windows\n",
        "data = np.array([data_array[i:i+timesteps] for i in range(len(data_array) - timesteps)])\n",
        "data = data.reshape((data.shape[0], timesteps, 1))  # Shape: (samples, timesteps, 1)\n",
        "\n",
        "print(\"Final sequence shape:\", data.shape)\n",
        "\n",
        "# Optional: Limit data size for faster test\n",
        "if data.shape[0] > max_samples:\n",
        "    print(f\"Limiting data to first {max_samples} samples for faster training.\")\n",
        "    data = data[:max_samples]\n",
        "\n",
        "# ======= BUILD AUTOENCODER =======\n",
        "inputs = Input(shape=(timesteps, 1))\n",
        "encoded = LSTM(latent_dim, activation='tanh', return_sequences=False)(inputs)\n",
        "decoded = RepeatVector(timesteps)(encoded)\n",
        "decoded = LSTM(latent_dim, activation='tanh', return_sequences=True)(decoded)\n",
        "outputs = TimeDistributed(Dense(1))(decoded)\n",
        "\n",
        "autoencoder = Model(inputs, outputs)\n",
        "autoencoder.compile(optimizer=Adam(learning_rate=0.001, clipnorm=1.0), loss='mse')\n",
        "autoencoder.summary()\n",
        "\n",
        "# ======= ENABLE NAN DEBUGGING =======\n",
        "tf.debugging.enable_check_numerics()\n",
        "\n",
        "# ======= TRAIN =======\n",
        "autoencoder.fit(data, data, epochs=5, batch_size=32, verbose=1)\n",
        "\n",
        "# ======= RECONSTRUCTION TEST =======\n",
        "reconstructed = autoencoder.predict(data)\n",
        "original = scaler.inverse_transform(data[0])\n",
        "recon = scaler.inverse_transform(reconstructed[0])\n",
        "\n",
        "# ======= PLOT RESULT =======\n",
        "import matplotlib.pyplot as plt\n",
        "plt.plot(original[:, 0], label='Original')\n",
        "plt.plot(recon[:, 0], label='Reconstructed', linestyle='dashed')\n",
        "plt.legend()\n",
        "plt.title(\"Autoencoder Reconstruction\")\n",
        "plt.show()\n"
      ],
      "metadata": {
        "id": "ccEI1fblqOnz",
        "outputId": "74865789-93b7-413d-817b-94ab31b38ea2",
        "colab": {
          "base_uri": "https://localhost:8080/",
          "height": 245
        }
      },
      "execution_count": null,
      "outputs": [
        {
          "output_type": "stream",
          "name": "stdout",
          "text": [
            "Loaded df shape: (1394, 501)\n",
            "Normalized data_array shape: (1394, 501)\n"
          ]
        },
        {
          "output_type": "error",
          "ename": "ValueError",
          "evalue": "cannot reshape array of size 224143893 into shape (893,501,1)",
          "traceback": [
            "\u001b[0;31m---------------------------------------------------------------------------\u001b[0m",
            "\u001b[0;31mValueError\u001b[0m                                Traceback (most recent call last)",
            "\u001b[0;32m/tmp/ipython-input-22-3907052994.py\u001b[0m in \u001b[0;36m<cell line: 0>\u001b[0;34m()\u001b[0m\n\u001b[1;32m     35\u001b[0m \u001b[0;31m# Overlapping sliding windows\u001b[0m\u001b[0;34m\u001b[0m\u001b[0;34m\u001b[0m\u001b[0m\n\u001b[1;32m     36\u001b[0m \u001b[0mdata\u001b[0m \u001b[0;34m=\u001b[0m \u001b[0mnp\u001b[0m\u001b[0;34m.\u001b[0m\u001b[0marray\u001b[0m\u001b[0;34m(\u001b[0m\u001b[0;34m[\u001b[0m\u001b[0mdata_array\u001b[0m\u001b[0;34m[\u001b[0m\u001b[0mi\u001b[0m\u001b[0;34m:\u001b[0m\u001b[0mi\u001b[0m\u001b[0;34m+\u001b[0m\u001b[0mtimesteps\u001b[0m\u001b[0;34m]\u001b[0m \u001b[0;32mfor\u001b[0m \u001b[0mi\u001b[0m \u001b[0;32min\u001b[0m \u001b[0mrange\u001b[0m\u001b[0;34m(\u001b[0m\u001b[0mlen\u001b[0m\u001b[0;34m(\u001b[0m\u001b[0mdata_array\u001b[0m\u001b[0;34m)\u001b[0m \u001b[0;34m-\u001b[0m \u001b[0mtimesteps\u001b[0m\u001b[0;34m)\u001b[0m\u001b[0;34m]\u001b[0m\u001b[0;34m)\u001b[0m\u001b[0;34m\u001b[0m\u001b[0;34m\u001b[0m\u001b[0m\n\u001b[0;32m---> 37\u001b[0;31m \u001b[0mdata\u001b[0m \u001b[0;34m=\u001b[0m \u001b[0mdata\u001b[0m\u001b[0;34m.\u001b[0m\u001b[0mreshape\u001b[0m\u001b[0;34m(\u001b[0m\u001b[0;34m(\u001b[0m\u001b[0mdata\u001b[0m\u001b[0;34m.\u001b[0m\u001b[0mshape\u001b[0m\u001b[0;34m[\u001b[0m\u001b[0;36m0\u001b[0m\u001b[0;34m]\u001b[0m\u001b[0;34m,\u001b[0m \u001b[0mtimesteps\u001b[0m\u001b[0;34m,\u001b[0m \u001b[0;36m1\u001b[0m\u001b[0;34m)\u001b[0m\u001b[0;34m)\u001b[0m  \u001b[0;31m# Shape: (samples, timesteps, 1)\u001b[0m\u001b[0;34m\u001b[0m\u001b[0;34m\u001b[0m\u001b[0m\n\u001b[0m\u001b[1;32m     38\u001b[0m \u001b[0;34m\u001b[0m\u001b[0m\n\u001b[1;32m     39\u001b[0m \u001b[0mprint\u001b[0m\u001b[0;34m(\u001b[0m\u001b[0;34m\"Final sequence shape:\"\u001b[0m\u001b[0;34m,\u001b[0m \u001b[0mdata\u001b[0m\u001b[0;34m.\u001b[0m\u001b[0mshape\u001b[0m\u001b[0;34m)\u001b[0m\u001b[0;34m\u001b[0m\u001b[0;34m\u001b[0m\u001b[0m\n",
            "\u001b[0;31mValueError\u001b[0m: cannot reshape array of size 224143893 into shape (893,501,1)"
          ]
        }
      ]
    },
    {
      "cell_type": "code",
      "source": [
        "import numpy as np\n",
        "import pandas as pd\n",
        "from sklearn.cluster import KMeans\n",
        "from sklearn.metrics import silhouette_score\n",
        "from tensorflow.keras import layers, models\n",
        "\n",
        "# -----------------------------\n",
        "# 1) Load Excel\n",
        "# -----------------------------\n",
        "#df = pd.read_excel(\"AItable.xlsx\")\n",
        "\n",
        "# Define the path to your CSV file\n",
        "#import sys\n",
        "#sys.path.append('/content/drive/MyDrive/Colab Notebooks/Thesis')\n",
        "csv_file_path = '/content/drive/MyDrive/Colab Notebooks/Thesis/v_ego.csv'\n",
        "\n",
        "# Load the CSV file into a pandas DataFrame\n",
        "# parse_dates tells pandas to convert the 'Date' column to datetime objects\n",
        "# index_col sets the 'Date' column as the DataFrame's index, which is crucial for time series\n",
        "df = pd.read_csv(csv_file_path)\n",
        "\n",
        "# If each row is a scenario (time series)\n",
        "X = df.values   # shape (1359, timesteps)\n",
        "X = np.expand_dims(X, axis=-1)   # (1395, timesteps, 1)\n",
        "\n",
        "print(\"Data shape:\", X.shape)\n",
        "\n",
        "# -----------------------------\n",
        "# 2) LSTM Autoencoder\n",
        "# -----------------------------\n",
        "n_scenarios, timesteps, n_features = X.shape\n",
        "latent_dim = 64\n",
        "\n",
        "inputs = layers.Input(shape=(timesteps, n_features))\n",
        "encoded = layers.LSTM(128, return_sequences=True)(inputs)\n",
        "encoded = layers.LSTM(latent_dim)(encoded)\n",
        "\n",
        "decoded = layers.RepeatVector(timesteps)(encoded)\n",
        "decoded = layers.LSTM(128, return_sequences=True)(decoded)\n",
        "outputs = layers.TimeDistributed(layers.Dense(n_features))(decoded)\n",
        "\n",
        "#outputs = layers.TimeDistributed(layers.Dense(n_features, activation=\"sigmoid\"))(decoded)\n",
        "\n",
        "autoencoder = models.Model(inputs, outputs)\n",
        "encoder = models.Model(inputs, encoded)\n",
        "\n",
        "autoencoder.compile(optimizer=\"adam\", loss=\"mse\")\n",
        "autoencoder.fit(X, X, epochs=30, batch_size=64, verbose=1)\n",
        "\n",
        "# -----------------------------\n",
        "# 3) Extract embeddings\n",
        "# -----------------------------\n",
        "embeddings = encoder.predict(X)\n",
        "\n",
        "# -----------------------------\n",
        "# 4) Cluster\n",
        "# -----------------------------\n",
        "kmeans = KMeans(n_clusters=10, random_state=0).fit(embeddings)\n",
        "labels = kmeans.labels_\n",
        "\n",
        "score = silhouette_score(embeddings, labels)\n",
        "print(\"Silhouette Score:\", score)\n",
        "print(\"Cluster labels for first 10 series:\", labels[:10])\n",
        "print(labels)"
      ],
      "metadata": {
        "colab": {
          "base_uri": "https://localhost:8080/"
        },
        "id": "uEl0oLLjNLaC",
        "outputId": "d70ba856-43b1-464a-95f3-107b6e87614c"
      },
      "execution_count": 9,
      "outputs": [
        {
          "output_type": "stream",
          "name": "stdout",
          "text": [
            "Data shape: (1394, 501, 1)\n",
            "Epoch 1/30\n",
            "\u001b[1m22/22\u001b[0m \u001b[32m━━━━━━━━━━━━━━━━━━━━\u001b[0m\u001b[37m\u001b[0m \u001b[1m147s\u001b[0m 5s/step - loss: 37.0022\n",
            "Epoch 2/30\n",
            "\u001b[1m22/22\u001b[0m \u001b[32m━━━━━━━━━━━━━━━━━━━━\u001b[0m\u001b[37m\u001b[0m \u001b[1m113s\u001b[0m 5s/step - loss: 29.7532\n",
            "Epoch 3/30\n",
            "\u001b[1m22/22\u001b[0m \u001b[32m━━━━━━━━━━━━━━━━━━━━\u001b[0m\u001b[37m\u001b[0m \u001b[1m141s\u001b[0m 5s/step - loss: 30.0974\n",
            "Epoch 4/30\n",
            "\u001b[1m22/22\u001b[0m \u001b[32m━━━━━━━━━━━━━━━━━━━━\u001b[0m\u001b[37m\u001b[0m \u001b[1m112s\u001b[0m 5s/step - loss: 29.2452\n",
            "Epoch 5/30\n",
            "\u001b[1m22/22\u001b[0m \u001b[32m━━━━━━━━━━━━━━━━━━━━\u001b[0m\u001b[37m\u001b[0m \u001b[1m106s\u001b[0m 5s/step - loss: 29.5835\n",
            "Epoch 6/30\n",
            "\u001b[1m22/22\u001b[0m \u001b[32m━━━━━━━━━━━━━━━━━━━━\u001b[0m\u001b[37m\u001b[0m \u001b[1m142s\u001b[0m 5s/step - loss: 26.8781\n",
            "Epoch 7/30\n",
            "\u001b[1m22/22\u001b[0m \u001b[32m━━━━━━━━━━━━━━━━━━━━\u001b[0m\u001b[37m\u001b[0m \u001b[1m150s\u001b[0m 5s/step - loss: 32.5610\n",
            "Epoch 8/30\n",
            "\u001b[1m22/22\u001b[0m \u001b[32m━━━━━━━━━━━━━━━━━━━━\u001b[0m\u001b[37m\u001b[0m \u001b[1m139s\u001b[0m 5s/step - loss: 29.3665\n",
            "Epoch 9/30\n",
            "\u001b[1m22/22\u001b[0m \u001b[32m━━━━━━━━━━━━━━━━━━━━\u001b[0m\u001b[37m\u001b[0m \u001b[1m104s\u001b[0m 5s/step - loss: 31.8280\n",
            "Epoch 10/30\n",
            "\u001b[1m22/22\u001b[0m \u001b[32m━━━━━━━━━━━━━━━━━━━━\u001b[0m\u001b[37m\u001b[0m \u001b[1m137s\u001b[0m 4s/step - loss: 30.7098\n",
            "Epoch 11/30\n",
            "\u001b[1m22/22\u001b[0m \u001b[32m━━━━━━━━━━━━━━━━━━━━\u001b[0m\u001b[37m\u001b[0m \u001b[1m144s\u001b[0m 5s/step - loss: 29.6530\n",
            "Epoch 12/30\n",
            "\u001b[1m22/22\u001b[0m \u001b[32m━━━━━━━━━━━━━━━━━━━━\u001b[0m\u001b[37m\u001b[0m \u001b[1m103s\u001b[0m 5s/step - loss: 28.6751\n",
            "Epoch 13/30\n",
            "\u001b[1m22/22\u001b[0m \u001b[32m━━━━━━━━━━━━━━━━━━━━\u001b[0m\u001b[37m\u001b[0m \u001b[1m137s\u001b[0m 4s/step - loss: 26.5270\n",
            "Epoch 14/30\n",
            "\u001b[1m22/22\u001b[0m \u001b[32m━━━━━━━━━━━━━━━━━━━━\u001b[0m\u001b[37m\u001b[0m \u001b[1m100s\u001b[0m 5s/step - loss: 22.1457\n",
            "Epoch 15/30\n",
            "\u001b[1m22/22\u001b[0m \u001b[32m━━━━━━━━━━━━━━━━━━━━\u001b[0m\u001b[37m\u001b[0m \u001b[1m143s\u001b[0m 5s/step - loss: 15.8045\n",
            "Epoch 16/30\n",
            "\u001b[1m22/22\u001b[0m \u001b[32m━━━━━━━━━━━━━━━━━━━━\u001b[0m\u001b[37m\u001b[0m \u001b[1m109s\u001b[0m 5s/step - loss: 11.7257\n",
            "Epoch 17/30\n",
            "\u001b[1m22/22\u001b[0m \u001b[32m━━━━━━━━━━━━━━━━━━━━\u001b[0m\u001b[37m\u001b[0m \u001b[1m99s\u001b[0m 5s/step - loss: 7.6868\n",
            "Epoch 18/30\n",
            "\u001b[1m22/22\u001b[0m \u001b[32m━━━━━━━━━━━━━━━━━━━━\u001b[0m\u001b[37m\u001b[0m \u001b[1m106s\u001b[0m 5s/step - loss: 5.5233\n",
            "Epoch 19/30\n",
            "\u001b[1m22/22\u001b[0m \u001b[32m━━━━━━━━━━━━━━━━━━━━\u001b[0m\u001b[37m\u001b[0m \u001b[1m146s\u001b[0m 5s/step - loss: 5.1687\n",
            "Epoch 20/30\n",
            "\u001b[1m22/22\u001b[0m \u001b[32m━━━━━━━━━━━━━━━━━━━━\u001b[0m\u001b[37m\u001b[0m \u001b[1m106s\u001b[0m 5s/step - loss: 4.7563\n",
            "Epoch 21/30\n",
            "\u001b[1m22/22\u001b[0m \u001b[32m━━━━━━━━━━━━━━━━━━━━\u001b[0m\u001b[37m\u001b[0m \u001b[1m148s\u001b[0m 5s/step - loss: 4.8246\n",
            "Epoch 22/30\n",
            "\u001b[1m22/22\u001b[0m \u001b[32m━━━━━━━━━━━━━━━━━━━━\u001b[0m\u001b[37m\u001b[0m \u001b[1m114s\u001b[0m 5s/step - loss: 3.8919\n",
            "Epoch 23/30\n",
            "\u001b[1m22/22\u001b[0m \u001b[32m━━━━━━━━━━━━━━━━━━━━\u001b[0m\u001b[37m\u001b[0m \u001b[1m137s\u001b[0m 5s/step - loss: 4.5512\n",
            "Epoch 24/30\n",
            "\u001b[1m22/22\u001b[0m \u001b[32m━━━━━━━━━━━━━━━━━━━━\u001b[0m\u001b[37m\u001b[0m \u001b[1m146s\u001b[0m 5s/step - loss: 4.4506\n",
            "Epoch 25/30\n",
            "\u001b[1m22/22\u001b[0m \u001b[32m━━━━━━━━━━━━━━━━━━━━\u001b[0m\u001b[37m\u001b[0m \u001b[1m141s\u001b[0m 5s/step - loss: 4.3933\n",
            "Epoch 26/30\n",
            "\u001b[1m22/22\u001b[0m \u001b[32m━━━━━━━━━━━━━━━━━━━━\u001b[0m\u001b[37m\u001b[0m \u001b[1m149s\u001b[0m 5s/step - loss: 4.5921\n",
            "Epoch 27/30\n",
            "\u001b[1m22/22\u001b[0m \u001b[32m━━━━━━━━━━━━━━━━━━━━\u001b[0m\u001b[37m\u001b[0m \u001b[1m136s\u001b[0m 5s/step - loss: 5.1984\n",
            "Epoch 28/30\n",
            "\u001b[1m22/22\u001b[0m \u001b[32m━━━━━━━━━━━━━━━━━━━━\u001b[0m\u001b[37m\u001b[0m \u001b[1m136s\u001b[0m 5s/step - loss: 4.3187\n",
            "Epoch 29/30\n",
            "\u001b[1m22/22\u001b[0m \u001b[32m━━━━━━━━━━━━━━━━━━━━\u001b[0m\u001b[37m\u001b[0m \u001b[1m104s\u001b[0m 5s/step - loss: 4.6327\n",
            "Epoch 30/30\n",
            "\u001b[1m22/22\u001b[0m \u001b[32m━━━━━━━━━━━━━━━━━━━━\u001b[0m\u001b[37m\u001b[0m \u001b[1m148s\u001b[0m 5s/step - loss: 4.9905\n",
            "\u001b[1m44/44\u001b[0m \u001b[32m━━━━━━━━━━━━━━━━━━━━\u001b[0m\u001b[37m\u001b[0m \u001b[1m13s\u001b[0m 295ms/step\n",
            "Silhouette Score: 0.5884354\n",
            "Cluster labels for first 10 series: [2 2 2 2 2 2 2 7 7 1]\n",
            "[2 2 2 2 2 2 2 7 7 1 7 1 1 4 2 7 2 1 7 4 1 4 1 4 7 8 1 8 1 4 1 8 8 6 4 2 7\n",
            " 2 1 7 4 1 4 7 4 7 4 1 8 1 4 7 4 4 8 8 7 1 7 4 1 4 1 4 7 4 4 4 8 7 1 4 7 4\n",
            " 7 1 4 1 4 4 1 4 4 1 4 1 1 4 1 2 1 2 2 2 2 2 2 2 7 7 1 1 4 2 1 4 7 1 4 7 4\n",
            " 4 7 7 1 1 4 4 4 7 4 8 7 4 8 4 1 8 4 0 4 0 7 4 0 0 4 6 4 6 4 6 6 0 6 6 9 8\n",
            " 0 6 8 2 7 2 1 1 4 1 4 4 4 7 4 8 2 1 7 4 1 8 4 0 4 0 2 8 1 0 4 6 4 0 2 0 4\n",
            " 6 4 6 6 8 6 8 2 1 7 4 1 4 1 8 4 0 1 4 1 8 1 0 1 6 1 8 1 0 4 0 4 0 4 6 1 0\n",
            " 1 7 4 7 8 1 0 1 0 4 8 1 0 1 0 4 8 1 0 8 0 0 4 8 7 0 1 0 4 8 1 8 4 0 8 1 4\n",
            " 4 7 8 1 4 8 1 8 8 1 4 4 1 4 4 2 2 2 2 1 7 4 2 1 4 7 4 4 1 4 4 1 4 8 1 4 8\n",
            " 1 4 8 2 2 2 4 1 4 2 4 8 1 4 0 1 8 0 1 8 0 1 8 0 2 4 4 0 2 0 6 1 0 6 1 0 6\n",
            " 1 8 6 2 6 0 9 2 0 9 4 0 9 4 0 9 7 9 6 3 2 6 9 0 6 9 2 6 0 9 6 9 2 6 8 6 2\n",
            " 6 2 2 2 2 2 1 1 4 4 4 7 4 8 1 4 8 1 8 0 1 8 0 2 7 4 4 8 8 0 7 8 0 1 8 0 1\n",
            " 8 6 1 1 0 8 6 8 6 1 8 6 1 8 6 0 4 9 0 9 0 9 4 0 9 8 8 9 6 9 6 9 4 1 6 4 6\n",
            " 4 1 0 4 7 7 4 1 4 4 8 7 8 0 7 8 0 1 4 0 1 1 8 4 0 4 6 7 8 6 1 4 6 8 1 6 4\n",
            " 6 8 6 1 8 6 0 4 6 0 9 0 9 8 4 6 6 9 8 1 0 4 1 1 4 4 8 4 0 4 0 7 4 6 4 1 0\n",
            " 4 6 4 6 4 6 0 1 6 4 6 4 6 0 4 6 0 6 0 0 6 8 7 4 1 0 1 0 4 6 4 6 1 0 1 6 4\n",
            " 6 4 6 4 0 1 6 4 6 4 0 8 6 1 0 1 4 0 1 6 1 0 4 0 4 0 1 0 1 0 4 0 4 0 8 6 1\n",
            " 4 8 1 0 1 0 4 8 1 0 8 0 6 2 2 2 4 7 8 2 4 0 1 4 0 4 4 0 4 8 0 4 8 0 4 8 0\n",
            " 2 1 8 0 2 1 8 0 2 2 8 1 0 7 4 0 4 8 0 4 0 6 4 0 6 4 0 6 4 0 6 2 4 0 6 2 4\n",
            " 6 4 0 6 8 6 6 4 6 6 4 6 6 4 6 6 4 0 6 0 9 4 9 9 0 9 9 0 9 9 8 6 9 8 6 9 9\n",
            " 3 6 3 3 6 9 3 6 9 3 6 9 3 6 3 4 6 3 6 9 3 9 9 3 6 3 4 6 3 4 6 9 0 3 4 6 3\n",
            " 0 9 2 2 1 7 4 4 8 1 4 0 4 8 0 4 8 0 4 0 0 1 0 0 1 0 0 1 1 0 8 0 1 0 6 4 0\n",
            " 6 4 0 6 4 6 6 4 0 6 4 8 6 6 6 4 6 6 4 6 9 4 6 9 4 0 9 6 6 9 6 3 8 6 3 8 6\n",
            " 3 0 6 9 6 6 3 9 3 0 9 3 6 9 3 6 0 9 0 9 4 6 3 0 8 9 0 9 0 8 6 0 2 2 1 1 4\n",
            " 4 0 1 8 0 1 0 0 1 0 6 1 0 6 1 0 6 4 4 0 0 6 1 0 6 1 6 6 1 0 6 1 0 6 0 0 6\n",
            " 0 9 1 0 9 4 0 9 4 0 9 9 0 3 6 3 8 6 9 0 6 9 6 8 9 6 9 6 9 9 6 8 6 0 6 0 4\n",
            " 6 0 2 4 4 8 8 0 7 0 6 1 0 6 1 0 6 1 8 6 2 8 4 6 0 6 1 0 6 1 0 9 1 0 6 6 8\n",
            " 9 0 9 1 0 9 1 0 6 9 0 9 6 9 8 6 9 6 6 9 9 9 0 4 6 0 7 4 4 0 8 6 8 6 7 8 6\n",
            " 1 8 6 4 6 4 6 8 9 8 9 1 8 6 8 6 4 9 0 6 0 6 8 6 0 9 6 9 4 0 8 6 4 0 1 4 7\n",
            " 0 4 6 4 6 4 6 7 4 6 0 1 6 4 6 4 6 8 6 0 1 6 4 6 0 6 8 8 6 6 9 4 1 0 4 8 1\n",
            " 6 1 6 4 6 4 6 8 1 0 4 6 4 6 0 4 6 8 6 6 0 9 4 0 0 2 0 0 4 0 0 4 0 0 2 8 0\n",
            " 0 1 8 0 0 1 8 0 0 1 8 0 0 1 4 0 0 7 4 0 0 7 4 0 0 7 0 8 6 6 6 4 6 6 0 6 6\n",
            " 2 0 6 6 1 0 6 6 1 0 6 6 1 8 6 6 1 4 6 6 7 4 0 6 2 4 2 8 1 6 6 6 0 6 6 6 6\n",
            " 6 2 6 6 6 1 0 6 6 1 0 6 6 1 8 6 6 1 4 0 6 2 1 2 1 2 8 1 6 9 9 9 9 9 9 9 9\n",
            " 2 6 9 9 4 6 9 9 4 0 9 9 4 0 6 9 2 1 2 1 2 1 2 4 7 6 3 3 3 3 3 9 3 3 2 9 3\n",
            " 3 6 9 3 3 6 9 9 3 2 7 2 1 2 1 2 1 2 4 7 0 5 5 6 3 5 9 3 5 2 9 3 3 6 9 3 3\n",
            " 2 7 2 7 2 7 2 1 2 1 2 4 2 0 3 5 6 3 3 6 9 3 2 0 6 9 2 7 2 7 2 7 2 7 2 1 2\n",
            " 1 2 4 2 8 3 3 6 3 3 6 9 3 2 2 2 7 2 7 2 7 2 7 2 1 2 1 2 1 2 8 9 3 6 3 3 2\n",
            " 2 2 2 2 2 2 7 2 7 2 7 2 1 2 1 2 1 2 4 9 3 2 2 2 2]\n"
          ]
        }
      ]
    },
    {
      "cell_type": "code",
      "source": [
        "#autoencoder.save(\"autoencoder_model.h5\")\n",
        "# Save autoencoder\n",
        "autoencoder.save('autoencoder_model32ep30.h5')\n",
        "\n",
        "# Save encoder separately\n",
        "encoder.save('encoder_model32ep30.h5')\n"
      ],
      "metadata": {
        "colab": {
          "base_uri": "https://localhost:8080/"
        },
        "id": "HrioMeYIfcG8",
        "outputId": "c421029f-5a3d-4ca4-a66f-59a5d57d4de2"
      },
      "execution_count": 2,
      "outputs": [
        {
          "output_type": "stream",
          "name": "stderr",
          "text": [
            "WARNING:absl:You are saving your model as an HDF5 file via `model.save()` or `keras.saving.save_model(model)`. This file format is considered legacy. We recommend using instead the native Keras format, e.g. `model.save('my_model.keras')` or `keras.saving.save_model(model, 'my_model.keras')`. \n",
            "WARNING:absl:You are saving your model as an HDF5 file via `model.save()` or `keras.saving.save_model(model)`. This file format is considered legacy. We recommend using instead the native Keras format, e.g. `model.save('my_model.keras')` or `keras.saving.save_model(model, 'my_model.keras')`. \n"
          ]
        }
      ]
    },
    {
      "cell_type": "code",
      "source": [
        "from tensorflow.keras.models import load_model\n",
        "\n",
        "autoencoder = load_model('autoencoder_model64.h5')\n",
        "encoder = load_model('encoder_model64.h5')\n"
      ],
      "metadata": {
        "colab": {
          "base_uri": "https://localhost:8080/",
          "height": 356
        },
        "id": "qVPDhQdZ3bkh",
        "outputId": "6137b6a2-c8c4-44f3-d260-fca30f044641"
      },
      "execution_count": 21,
      "outputs": [
        {
          "output_type": "error",
          "ename": "TypeError",
          "evalue": "Could not locate function 'mse'. Make sure custom classes are decorated with `@keras.saving.register_keras_serializable()`. Full object config: {'module': 'keras.metrics', 'class_name': 'function', 'config': 'mse', 'registered_name': 'mse'}",
          "traceback": [
            "\u001b[0;31m---------------------------------------------------------------------------\u001b[0m",
            "\u001b[0;31mTypeError\u001b[0m                                 Traceback (most recent call last)",
            "\u001b[0;32m/tmp/ipython-input-2542042688.py\u001b[0m in \u001b[0;36m<cell line: 0>\u001b[0;34m()\u001b[0m\n\u001b[1;32m      1\u001b[0m \u001b[0;32mfrom\u001b[0m \u001b[0mtensorflow\u001b[0m\u001b[0;34m.\u001b[0m\u001b[0mkeras\u001b[0m\u001b[0;34m.\u001b[0m\u001b[0mmodels\u001b[0m \u001b[0;32mimport\u001b[0m \u001b[0mload_model\u001b[0m\u001b[0;34m\u001b[0m\u001b[0;34m\u001b[0m\u001b[0m\n\u001b[1;32m      2\u001b[0m \u001b[0;34m\u001b[0m\u001b[0m\n\u001b[0;32m----> 3\u001b[0;31m \u001b[0mautoencoder\u001b[0m \u001b[0;34m=\u001b[0m \u001b[0mload_model\u001b[0m\u001b[0;34m(\u001b[0m\u001b[0;34m'autoencoder_model64.h5'\u001b[0m\u001b[0;34m)\u001b[0m\u001b[0;34m\u001b[0m\u001b[0;34m\u001b[0m\u001b[0m\n\u001b[0m\u001b[1;32m      4\u001b[0m \u001b[0mencoder\u001b[0m \u001b[0;34m=\u001b[0m \u001b[0mload_model\u001b[0m\u001b[0;34m(\u001b[0m\u001b[0;34m'encoder_model64.h5'\u001b[0m\u001b[0;34m)\u001b[0m\u001b[0;34m\u001b[0m\u001b[0;34m\u001b[0m\u001b[0m\n",
            "\u001b[0;32m/usr/local/lib/python3.12/dist-packages/keras/src/saving/saving_api.py\u001b[0m in \u001b[0;36mload_model\u001b[0;34m(filepath, custom_objects, compile, safe_mode)\u001b[0m\n\u001b[1;32m    194\u001b[0m         )\n\u001b[1;32m    195\u001b[0m     \u001b[0;32mif\u001b[0m \u001b[0mstr\u001b[0m\u001b[0;34m(\u001b[0m\u001b[0mfilepath\u001b[0m\u001b[0;34m)\u001b[0m\u001b[0;34m.\u001b[0m\u001b[0mendswith\u001b[0m\u001b[0;34m(\u001b[0m\u001b[0;34m(\u001b[0m\u001b[0;34m\".h5\"\u001b[0m\u001b[0;34m,\u001b[0m \u001b[0;34m\".hdf5\"\u001b[0m\u001b[0;34m)\u001b[0m\u001b[0;34m)\u001b[0m\u001b[0;34m:\u001b[0m\u001b[0;34m\u001b[0m\u001b[0;34m\u001b[0m\u001b[0m\n\u001b[0;32m--> 196\u001b[0;31m         return legacy_h5_format.load_model_from_hdf5(\n\u001b[0m\u001b[1;32m    197\u001b[0m             \u001b[0mfilepath\u001b[0m\u001b[0;34m,\u001b[0m \u001b[0mcustom_objects\u001b[0m\u001b[0;34m=\u001b[0m\u001b[0mcustom_objects\u001b[0m\u001b[0;34m,\u001b[0m \u001b[0mcompile\u001b[0m\u001b[0;34m=\u001b[0m\u001b[0mcompile\u001b[0m\u001b[0;34m\u001b[0m\u001b[0;34m\u001b[0m\u001b[0m\n\u001b[1;32m    198\u001b[0m         )\n",
            "\u001b[0;32m/usr/local/lib/python3.12/dist-packages/keras/src/legacy/saving/legacy_h5_format.py\u001b[0m in \u001b[0;36mload_model_from_hdf5\u001b[0;34m(filepath, custom_objects, compile)\u001b[0m\n\u001b[1;32m    153\u001b[0m             \u001b[0;31m# Compile model.\u001b[0m\u001b[0;34m\u001b[0m\u001b[0;34m\u001b[0m\u001b[0m\n\u001b[1;32m    154\u001b[0m             model.compile(\n\u001b[0;32m--> 155\u001b[0;31m                 **saving_utils.compile_args_from_training_config(\n\u001b[0m\u001b[1;32m    156\u001b[0m                     \u001b[0mtraining_config\u001b[0m\u001b[0;34m,\u001b[0m \u001b[0mcustom_objects\u001b[0m\u001b[0;34m\u001b[0m\u001b[0;34m\u001b[0m\u001b[0m\n\u001b[1;32m    157\u001b[0m                 )\n",
            "\u001b[0;32m/usr/local/lib/python3.12/dist-packages/keras/src/legacy/saving/saving_utils.py\u001b[0m in \u001b[0;36mcompile_args_from_training_config\u001b[0;34m(training_config, custom_objects)\u001b[0m\n\u001b[1;32m    144\u001b[0m         \u001b[0mloss_config\u001b[0m \u001b[0;34m=\u001b[0m \u001b[0mtraining_config\u001b[0m\u001b[0;34m.\u001b[0m\u001b[0mget\u001b[0m\u001b[0;34m(\u001b[0m\u001b[0;34m\"loss\"\u001b[0m\u001b[0;34m,\u001b[0m \u001b[0;32mNone\u001b[0m\u001b[0;34m)\u001b[0m\u001b[0;34m\u001b[0m\u001b[0;34m\u001b[0m\u001b[0m\n\u001b[1;32m    145\u001b[0m         \u001b[0;32mif\u001b[0m \u001b[0mloss_config\u001b[0m \u001b[0;32mis\u001b[0m \u001b[0;32mnot\u001b[0m \u001b[0;32mNone\u001b[0m\u001b[0;34m:\u001b[0m\u001b[0;34m\u001b[0m\u001b[0;34m\u001b[0m\u001b[0m\n\u001b[0;32m--> 146\u001b[0;31m             \u001b[0mloss\u001b[0m \u001b[0;34m=\u001b[0m \u001b[0m_deserialize_nested_config\u001b[0m\u001b[0;34m(\u001b[0m\u001b[0mlosses\u001b[0m\u001b[0;34m.\u001b[0m\u001b[0mdeserialize\u001b[0m\u001b[0;34m,\u001b[0m \u001b[0mloss_config\u001b[0m\u001b[0;34m)\u001b[0m\u001b[0;34m\u001b[0m\u001b[0;34m\u001b[0m\u001b[0m\n\u001b[0m\u001b[1;32m    147\u001b[0m             \u001b[0;31m# Ensure backwards compatibility for losses in legacy H5 files\u001b[0m\u001b[0;34m\u001b[0m\u001b[0;34m\u001b[0m\u001b[0m\n\u001b[1;32m    148\u001b[0m             \u001b[0mloss\u001b[0m \u001b[0;34m=\u001b[0m \u001b[0m_resolve_compile_arguments_compat\u001b[0m\u001b[0;34m(\u001b[0m\u001b[0mloss\u001b[0m\u001b[0;34m,\u001b[0m \u001b[0mloss_config\u001b[0m\u001b[0;34m,\u001b[0m \u001b[0mlosses\u001b[0m\u001b[0;34m)\u001b[0m\u001b[0;34m\u001b[0m\u001b[0;34m\u001b[0m\u001b[0m\n",
            "\u001b[0;32m/usr/local/lib/python3.12/dist-packages/keras/src/legacy/saving/saving_utils.py\u001b[0m in \u001b[0;36m_deserialize_nested_config\u001b[0;34m(deserialize_fn, config)\u001b[0m\n\u001b[1;32m    203\u001b[0m         \u001b[0;32mreturn\u001b[0m \u001b[0;32mNone\u001b[0m\u001b[0;34m\u001b[0m\u001b[0;34m\u001b[0m\u001b[0m\n\u001b[1;32m    204\u001b[0m     \u001b[0;32mif\u001b[0m \u001b[0m_is_single_object\u001b[0m\u001b[0;34m(\u001b[0m\u001b[0mconfig\u001b[0m\u001b[0;34m)\u001b[0m\u001b[0;34m:\u001b[0m\u001b[0;34m\u001b[0m\u001b[0;34m\u001b[0m\u001b[0m\n\u001b[0;32m--> 205\u001b[0;31m         \u001b[0;32mreturn\u001b[0m \u001b[0mdeserialize_fn\u001b[0m\u001b[0;34m(\u001b[0m\u001b[0mconfig\u001b[0m\u001b[0;34m)\u001b[0m\u001b[0;34m\u001b[0m\u001b[0;34m\u001b[0m\u001b[0m\n\u001b[0m\u001b[1;32m    206\u001b[0m     \u001b[0;32melif\u001b[0m \u001b[0misinstance\u001b[0m\u001b[0;34m(\u001b[0m\u001b[0mconfig\u001b[0m\u001b[0;34m,\u001b[0m \u001b[0mdict\u001b[0m\u001b[0;34m)\u001b[0m\u001b[0;34m:\u001b[0m\u001b[0;34m\u001b[0m\u001b[0;34m\u001b[0m\u001b[0m\n\u001b[1;32m    207\u001b[0m         return {\n",
            "\u001b[0;32m/usr/local/lib/python3.12/dist-packages/keras/src/losses/__init__.py\u001b[0m in \u001b[0;36mdeserialize\u001b[0;34m(name, custom_objects)\u001b[0m\n\u001b[1;32m    153\u001b[0m         \u001b[0mA\u001b[0m \u001b[0mKeras\u001b[0m\u001b[0;31m \u001b[0m\u001b[0;31m`\u001b[0m\u001b[0mLoss\u001b[0m\u001b[0;31m`\u001b[0m \u001b[0minstance\u001b[0m \u001b[0;32mor\u001b[0m \u001b[0ma\u001b[0m \u001b[0mloss\u001b[0m \u001b[0mfunction\u001b[0m\u001b[0;34m.\u001b[0m\u001b[0;34m\u001b[0m\u001b[0;34m\u001b[0m\u001b[0m\n\u001b[1;32m    154\u001b[0m     \"\"\"\n\u001b[0;32m--> 155\u001b[0;31m     return serialization_lib.deserialize_keras_object(\n\u001b[0m\u001b[1;32m    156\u001b[0m         \u001b[0mname\u001b[0m\u001b[0;34m,\u001b[0m\u001b[0;34m\u001b[0m\u001b[0;34m\u001b[0m\u001b[0m\n\u001b[1;32m    157\u001b[0m         \u001b[0mmodule_objects\u001b[0m\u001b[0;34m=\u001b[0m\u001b[0mALL_OBJECTS_DICT\u001b[0m\u001b[0;34m,\u001b[0m\u001b[0;34m\u001b[0m\u001b[0;34m\u001b[0m\u001b[0m\n",
            "\u001b[0;32m/usr/local/lib/python3.12/dist-packages/keras/src/saving/serialization_lib.py\u001b[0m in \u001b[0;36mdeserialize_keras_object\u001b[0;34m(config, custom_objects, safe_mode, **kwargs)\u001b[0m\n\u001b[1;32m    573\u001b[0m                 \u001b[0;32mreturn\u001b[0m \u001b[0mconfig\u001b[0m\u001b[0;34m\u001b[0m\u001b[0;34m\u001b[0m\u001b[0m\n\u001b[1;32m    574\u001b[0m             \u001b[0;32mif\u001b[0m \u001b[0misinstance\u001b[0m\u001b[0;34m(\u001b[0m\u001b[0mmodule_objects\u001b[0m\u001b[0;34m[\u001b[0m\u001b[0mconfig\u001b[0m\u001b[0;34m]\u001b[0m\u001b[0;34m,\u001b[0m \u001b[0mtypes\u001b[0m\u001b[0;34m.\u001b[0m\u001b[0mFunctionType\u001b[0m\u001b[0;34m)\u001b[0m\u001b[0;34m:\u001b[0m\u001b[0;34m\u001b[0m\u001b[0;34m\u001b[0m\u001b[0m\n\u001b[0;32m--> 575\u001b[0;31m                 return deserialize_keras_object(\n\u001b[0m\u001b[1;32m    576\u001b[0m                     serialize_with_public_fn(\n\u001b[1;32m    577\u001b[0m                         \u001b[0mmodule_objects\u001b[0m\u001b[0;34m[\u001b[0m\u001b[0mconfig\u001b[0m\u001b[0;34m]\u001b[0m\u001b[0;34m,\u001b[0m \u001b[0mconfig\u001b[0m\u001b[0;34m,\u001b[0m \u001b[0mfn_module_name\u001b[0m\u001b[0;34m\u001b[0m\u001b[0;34m\u001b[0m\u001b[0m\n",
            "\u001b[0;32m/usr/local/lib/python3.12/dist-packages/keras/src/saving/serialization_lib.py\u001b[0m in \u001b[0;36mdeserialize_keras_object\u001b[0;34m(config, custom_objects, safe_mode, **kwargs)\u001b[0m\n\u001b[1;32m    676\u001b[0m     \u001b[0;32mif\u001b[0m \u001b[0mclass_name\u001b[0m \u001b[0;34m==\u001b[0m \u001b[0;34m\"function\"\u001b[0m\u001b[0;34m:\u001b[0m\u001b[0;34m\u001b[0m\u001b[0;34m\u001b[0m\u001b[0m\n\u001b[1;32m    677\u001b[0m         \u001b[0mfn_name\u001b[0m \u001b[0;34m=\u001b[0m \u001b[0minner_config\u001b[0m\u001b[0;34m\u001b[0m\u001b[0;34m\u001b[0m\u001b[0m\n\u001b[0;32m--> 678\u001b[0;31m         return _retrieve_class_or_fn(\n\u001b[0m\u001b[1;32m    679\u001b[0m             \u001b[0mfn_name\u001b[0m\u001b[0;34m,\u001b[0m\u001b[0;34m\u001b[0m\u001b[0;34m\u001b[0m\u001b[0m\n\u001b[1;32m    680\u001b[0m             \u001b[0mregistered_name\u001b[0m\u001b[0;34m,\u001b[0m\u001b[0;34m\u001b[0m\u001b[0;34m\u001b[0m\u001b[0m\n",
            "\u001b[0;32m/usr/local/lib/python3.12/dist-packages/keras/src/saving/serialization_lib.py\u001b[0m in \u001b[0;36m_retrieve_class_or_fn\u001b[0;34m(name, registered_name, module, obj_type, full_config, custom_objects)\u001b[0m\n\u001b[1;32m    808\u001b[0m                 )\n\u001b[1;32m    809\u001b[0m \u001b[0;34m\u001b[0m\u001b[0m\n\u001b[0;32m--> 810\u001b[0;31m     raise TypeError(\n\u001b[0m\u001b[1;32m    811\u001b[0m         \u001b[0;34mf\"Could not locate {obj_type} '{name}'. \"\u001b[0m\u001b[0;34m\u001b[0m\u001b[0;34m\u001b[0m\u001b[0m\n\u001b[1;32m    812\u001b[0m         \u001b[0;34m\"Make sure custom classes are decorated with \"\u001b[0m\u001b[0;34m\u001b[0m\u001b[0;34m\u001b[0m\u001b[0m\n",
            "\u001b[0;31mTypeError\u001b[0m: Could not locate function 'mse'. Make sure custom classes are decorated with `@keras.saving.register_keras_serializable()`. Full object config: {'module': 'keras.metrics', 'class_name': 'function', 'config': 'mse', 'registered_name': 'mse'}"
          ]
        }
      ]
    },
    {
      "cell_type": "code",
      "source": [
        "from tensorflow.keras.models import load_model\n",
        "from tensorflow.keras.losses import MeanSquaredError\n",
        "\n",
        "autoencoder = load_model('autoencoder_model64.h5', custom_objects={'mse': MeanSquaredError()})\n"
      ],
      "metadata": {
        "colab": {
          "base_uri": "https://localhost:8080/"
        },
        "id": "b4ZuCjkL4ln2",
        "outputId": "6a92a299-3c83-4d2d-fef8-eae1cc0f6185"
      },
      "execution_count": 22,
      "outputs": [
        {
          "output_type": "stream",
          "name": "stderr",
          "text": [
            "WARNING:absl:Compiled the loaded model, but the compiled metrics have yet to be built. `model.compile_metrics` will be empty until you train or evaluate the model.\n"
          ]
        }
      ]
    },
    {
      "cell_type": "code",
      "source": [
        "from tensorflow import keras\n",
        "\n",
        "autoencoder = keras.models.load_model(\"autoencoder_model.keras\")\n",
        "encoder = keras.models.load_model(\"encoder_model.keras\")\n"
      ],
      "metadata": {
        "colab": {
          "base_uri": "https://localhost:8080/",
          "height": 315
        },
        "id": "gGVF6ReyhzBl",
        "outputId": "af354a1a-8424-4940-aa48-efaad9cd2cea"
      },
      "execution_count": 10,
      "outputs": [
        {
          "output_type": "error",
          "ename": "ValueError",
          "evalue": "File not found: filepath=autoencoder_model.keras. Please ensure the file is an accessible `.keras` zip file.",
          "traceback": [
            "\u001b[0;31m---------------------------------------------------------------------------\u001b[0m",
            "\u001b[0;31mValueError\u001b[0m                                Traceback (most recent call last)",
            "\u001b[0;32m/tmp/ipython-input-2202144899.py\u001b[0m in \u001b[0;36m<cell line: 0>\u001b[0;34m()\u001b[0m\n\u001b[1;32m      1\u001b[0m \u001b[0;32mfrom\u001b[0m \u001b[0mtensorflow\u001b[0m \u001b[0;32mimport\u001b[0m \u001b[0mkeras\u001b[0m\u001b[0;34m\u001b[0m\u001b[0;34m\u001b[0m\u001b[0m\n\u001b[1;32m      2\u001b[0m \u001b[0;34m\u001b[0m\u001b[0m\n\u001b[0;32m----> 3\u001b[0;31m \u001b[0mautoencoder\u001b[0m \u001b[0;34m=\u001b[0m \u001b[0mkeras\u001b[0m\u001b[0;34m.\u001b[0m\u001b[0mmodels\u001b[0m\u001b[0;34m.\u001b[0m\u001b[0mload_model\u001b[0m\u001b[0;34m(\u001b[0m\u001b[0;34m\"autoencoder_model.keras\"\u001b[0m\u001b[0;34m)\u001b[0m\u001b[0;34m\u001b[0m\u001b[0;34m\u001b[0m\u001b[0m\n\u001b[0m\u001b[1;32m      4\u001b[0m \u001b[0mencoder\u001b[0m \u001b[0;34m=\u001b[0m \u001b[0mkeras\u001b[0m\u001b[0;34m.\u001b[0m\u001b[0mmodels\u001b[0m\u001b[0;34m.\u001b[0m\u001b[0mload_model\u001b[0m\u001b[0;34m(\u001b[0m\u001b[0;34m\"encoder_model.keras\"\u001b[0m\u001b[0;34m)\u001b[0m\u001b[0;34m\u001b[0m\u001b[0;34m\u001b[0m\u001b[0m\n",
            "\u001b[0;32m/usr/local/lib/python3.12/dist-packages/keras/src/saving/saving_api.py\u001b[0m in \u001b[0;36mload_model\u001b[0;34m(filepath, custom_objects, compile, safe_mode)\u001b[0m\n\u001b[1;32m    198\u001b[0m         )\n\u001b[1;32m    199\u001b[0m     \u001b[0;32melif\u001b[0m \u001b[0mstr\u001b[0m\u001b[0;34m(\u001b[0m\u001b[0mfilepath\u001b[0m\u001b[0;34m)\u001b[0m\u001b[0;34m.\u001b[0m\u001b[0mendswith\u001b[0m\u001b[0;34m(\u001b[0m\u001b[0;34m\".keras\"\u001b[0m\u001b[0;34m)\u001b[0m\u001b[0;34m:\u001b[0m\u001b[0;34m\u001b[0m\u001b[0;34m\u001b[0m\u001b[0m\n\u001b[0;32m--> 200\u001b[0;31m         raise ValueError(\n\u001b[0m\u001b[1;32m    201\u001b[0m             \u001b[0;34mf\"File not found: filepath={filepath}. \"\u001b[0m\u001b[0;34m\u001b[0m\u001b[0;34m\u001b[0m\u001b[0m\n\u001b[1;32m    202\u001b[0m             \u001b[0;34m\"Please ensure the file is an accessible `.keras` \"\u001b[0m\u001b[0;34m\u001b[0m\u001b[0;34m\u001b[0m\u001b[0m\n",
            "\u001b[0;31mValueError\u001b[0m: File not found: filepath=autoencoder_model.keras. Please ensure the file is an accessible `.keras` zip file."
          ]
        }
      ]
    },
    {
      "cell_type": "code",
      "source": [
        "# Save weights\n",
        "autoencoder.save_weights(\"autoencoder_weights.weights.h5\")\n",
        "\n",
        "# Load weights later (need same architecture built first)\n",
        "autoencoder.load_weights(\"autoencoder_weights.weights.h5\")\n"
      ],
      "metadata": {
        "id": "kqcDotT3huQe"
      },
      "execution_count": 9,
      "outputs": []
    },
    {
      "cell_type": "markdown",
      "source": [],
      "metadata": {
        "id": "Uy75wCXgf1rW"
      }
    },
    {
      "cell_type": "markdown",
      "source": [],
      "metadata": {
        "id": "WIUU_ZXTf1n2"
      }
    },
    {
      "cell_type": "code",
      "source": [
        "kmeans = KMeans(n_clusters=10, random_state=0).fit(embeddings)\n",
        "labels = kmeans.labels_\n",
        "\n",
        "score = silhouette_score(embeddings, labels)\n",
        "print(\"Silhouette Score:\", score)\n",
        "print(\"Cluster labels for first 10 series:\", labels[:10])\n",
        "print(labels)"
      ],
      "metadata": {
        "colab": {
          "base_uri": "https://localhost:8080/"
        },
        "id": "I73cwI--YIye",
        "outputId": "b127c224-1e6d-4122-8698-ce721b72cfa5"
      },
      "execution_count": 19,
      "outputs": [
        {
          "output_type": "stream",
          "name": "stdout",
          "text": [
            "Silhouette Score: 0.844972\n",
            "Cluster labels for first 10 series: [3 3 3 3 3 3 3 3 3 3]\n",
            "[3 3 3 3 3 3 3 3 3 3 3 1 3 1 3 3 3 1 3 1 3 1 3 1 3 1 3 0 1 1 3 0 0 8 1 3 3\n",
            " 3 1 3 1 3 1 3 1 3 1 3 0 1 1 3 1 1 0 0 3 1 3 1 3 1 1 1 3 1 1 1 0 3 1 1 3 1\n",
            " 3 1 1 3 1 1 3 1 1 3 1 1 3 1 3 3 3 3 3 3 3 3 3 3 3 3 1 3 1 3 1 1 3 1 1 3 1\n",
            " 1 3 3 1 3 1 1 1 3 1 0 3 1 0 1 3 1 1 0 1 0 3 1 8 0 1 7 1 4 1 4 4 0 7 4 7 1\n",
            " 0 4 1 3 3 3 1 3 1 1 1 1 1 3 1 0 3 1 3 1 1 0 1 0 1 0 3 0 3 0 1 4 1 8 3 0 1\n",
            " 4 1 4 8 0 4 1 3 3 3 1 1 1 1 0 1 0 3 1 3 0 1 0 1 8 1 0 3 0 1 0 1 8 1 4 1 8\n",
            " 3 3 1 3 1 3 0 1 0 1 0 3 0 1 0 1 0 1 0 0 8 0 1 0 3 0 3 0 1 0 3 0 1 0 0 3 1\n",
            " 1 3 0 3 1 0 1 0 1 3 1 1 3 1 1 3 3 3 3 3 3 1 3 3 1 3 1 1 3 1 1 3 1 1 3 1 0\n",
            " 3 1 0 3 3 3 1 3 1 3 1 0 3 1 0 3 0 0 3 0 0 3 0 0 3 1 1 0 3 0 8 3 0 4 1 0 4\n",
            " 1 0 4 3 4 0 7 3 8 7 1 0 7 1 0 7 3 2 4 9 3 7 2 8 7 2 3 4 8 7 7 2 3 4 1 4 3\n",
            " 4 3 3 3 3 3 3 3 1 1 1 3 1 0 3 1 0 3 0 0 3 0 0 3 3 1 1 0 1 0 3 0 0 3 0 8 3\n",
            " 1 4 3 1 0 1 4 0 4 3 0 7 3 0 7 0 1 7 0 2 0 7 1 8 7 0 1 7 4 7 4 2 1 1 8 1 4\n",
            " 1 3 0 1 3 3 1 1 1 1 0 3 0 0 3 1 0 3 1 8 1 3 0 1 0 1 4 3 1 4 3 1 4 0 1 4 1\n",
            " 7 0 7 3 0 4 8 1 7 0 7 8 7 1 1 4 4 7 1 3 0 1 3 3 1 1 0 1 0 1 8 3 1 4 1 3 0\n",
            " 1 4 1 4 1 4 0 1 4 1 4 0 4 8 1 4 0 7 0 8 7 1 3 1 3 0 1 8 1 4 1 4 1 0 3 4 1\n",
            " 4 1 4 1 0 1 4 1 4 1 8 0 4 3 0 3 1 0 3 4 1 8 1 8 1 0 3 0 1 8 1 0 1 4 1 4 3\n",
            " 1 0 3 0 3 0 1 0 3 0 1 0 4 3 3 3 1 3 0 3 1 0 3 1 0 1 1 0 1 1 0 1 0 0 1 0 0\n",
            " 3 1 0 0 3 1 0 0 3 3 0 3 0 3 1 8 1 0 8 1 0 8 1 0 4 1 0 4 1 0 4 3 1 0 4 3 1\n",
            " 4 1 0 7 0 4 7 1 4 7 1 4 7 1 4 7 1 0 7 0 2 1 7 2 0 7 2 0 7 2 0 7 2 0 4 2 7\n",
            " 9 8 9 6 4 2 6 7 2 9 7 2 9 4 9 1 4 9 4 7 9 7 2 9 8 9 1 4 2 1 4 7 0 2 1 4 2\n",
            " 0 7 3 3 3 3 1 1 0 1 1 0 1 0 0 1 0 0 1 0 0 1 0 8 1 0 8 3 1 0 1 8 1 0 4 1 0\n",
            " 4 1 8 4 1 4 4 1 0 4 1 0 4 4 7 1 4 7 1 4 7 1 4 7 1 8 7 8 4 2 7 9 0 7 9 0 7\n",
            " 9 0 4 2 4 4 9 7 9 8 7 9 4 7 9 8 0 2 0 7 1 4 9 0 0 7 0 7 0 1 7 1 3 3 3 3 1\n",
            " 1 0 3 0 0 1 0 8 1 0 4 1 0 4 1 0 4 1 1 0 0 4 3 8 4 1 4 4 1 0 7 1 0 7 0 0 7\n",
            " 8 7 1 4 7 1 8 2 1 8 7 7 8 9 4 9 0 7 2 0 7 2 4 0 2 4 2 4 7 2 4 1 4 0 4 0 1\n",
            " 4 0 3 1 1 0 0 0 3 0 4 3 8 4 3 0 4 3 0 4 3 0 1 4 0 4 3 0 7 3 0 7 1 0 7 4 0\n",
            " 7 0 2 1 0 7 1 0 7 7 0 2 4 2 0 4 2 4 4 7 7 2 0 1 4 0 3 1 1 0 0 4 0 4 3 0 4\n",
            " 3 0 7 1 8 1 7 0 7 0 7 3 0 7 0 7 1 7 0 7 0 7 0 4 0 7 4 7 1 0 1 7 1 0 1 1 3\n",
            " 0 1 4 1 4 1 7 3 1 4 0 3 7 1 7 1 4 0 4 0 1 4 1 7 0 7 0 0 4 4 7 1 3 0 1 0 3\n",
            " 4 1 4 1 4 1 4 0 3 8 1 4 1 4 0 1 4 0 4 4 0 7 1 0 0 3 0 0 1 0 0 1 0 0 3 1 0\n",
            " 0 3 0 0 0 3 0 0 0 3 0 0 0 3 1 0 0 3 1 0 0 3 1 0 0 3 8 1 4 4 4 1 4 4 0 4 4\n",
            " 3 0 4 4 3 0 4 4 3 0 4 4 3 1 4 4 3 1 4 4 3 1 0 4 3 1 3 0 3 7 7 7 0 7 7 4 7\n",
            " 7 3 4 7 7 1 8 7 7 3 0 7 7 3 0 4 7 3 1 8 7 3 3 3 1 3 1 3 4 2 2 7 2 2 7 2 2\n",
            " 3 7 2 2 1 4 2 2 1 8 7 2 1 0 7 2 3 3 3 3 3 1 3 1 3 4 6 6 9 6 6 2 6 6 3 2 9\n",
            " 6 4 7 9 6 4 7 2 9 3 3 3 3 3 3 3 3 3 1 3 0 5 5 4 6 5 7 9 5 3 7 9 9 4 7 2 9\n",
            " 3 3 3 3 3 3 3 3 3 3 3 1 3 0 9 5 4 9 9 4 2 9 3 0 7 7 3 3 3 3 3 3 3 3 3 3 3\n",
            " 3 3 1 3 0 9 6 4 9 9 8 7 2 3 3 3 3 3 3 3 3 3 3 3 3 3 3 3 1 3 1 2 6 8 9 9 3\n",
            " 3 3 3 3 3 3 3 3 3 3 3 3 3 3 3 3 1 3 1 7 6 3 3 3 3]\n"
          ]
        }
      ]
    },
    {
      "cell_type": "code",
      "source": [
        "np.set_printoptions(threshold=np.inf)  # disable truncation\n",
        "print(labels)\n"
      ],
      "metadata": {
        "colab": {
          "base_uri": "https://localhost:8080/"
        },
        "id": "R5B3J5BadCvN",
        "outputId": "a588054e-69ff-4bca-86ab-82baf5f5c160"
      },
      "execution_count": 7,
      "outputs": [
        {
          "output_type": "stream",
          "name": "stdout",
          "text": [
            "[4 4 4 4 4 2 2 7 2 5 7 1 5 1 2 7 2 1 7 1 5 1 7 1 7 0 5 0 1 0 1 0 0 9 1 2 7\n",
            " 2 1 7 1 5 1 7 1 2 1 5 0 1 1 7 0 1 0 0 7 1 2 1 7 0 1 1 7 0 1 1 0 2 1 1 2 0\n",
            " 7 1 1 5 1 1 5 1 1 5 1 1 5 1 1 4 5 4 4 4 4 4 2 2 7 2 1 5 1 2 1 1 2 1 1 2 1\n",
            " 1 2 2 1 1 1 1 0 2 1 0 2 1 0 1 5 0 1 0 1 9 2 1 9 0 1 9 1 9 0 9 9 0 6 9 6 0\n",
            " 0 9 0 4 2 2 1 5 1 1 1 1 0 2 1 0 4 1 5 1 1 0 1 0 1 0 4 0 1 9 1 9 1 9 4 0 1\n",
            " 9 0 9 9 0 9 0 2 5 7 1 1 0 1 0 1 0 5 1 5 0 1 9 1 9 1 0 1 0 1 0 0 9 1 9 1 9\n",
            " 1 7 1 7 0 1 0 1 0 1 0 5 0 1 0 1 0 1 0 0 9 0 1 0 7 0 5 0 1 0 5 0 1 0 0 7 1\n",
            " 0 7 0 5 1 0 1 0 0 5 1 1 1 1 1 2 2 2 4 5 7 1 4 1 1 7 1 0 5 1 0 5 1 0 5 1 0\n",
            " 5 0 0 4 4 2 1 1 0 4 1 0 5 0 0 1 0 0 1 0 0 1 0 0 2 0 1 0 4 0 9 1 9 9 1 0 9\n",
            " 1 0 9 2 9 9 6 4 9 6 1 9 6 1 9 6 2 8 9 8 4 6 8 9 6 8 2 9 9 6 6 8 2 9 0 9 2\n",
            " 9 4 4 4 2 2 1 5 1 1 0 7 1 0 5 0 0 5 0 0 5 0 0 2 7 1 1 0 0 0 7 0 9 5 0 9 5\n",
            " 0 9 1 1 0 0 9 0 9 5 0 6 1 0 6 0 1 6 0 8 9 6 1 9 6 0 0 6 9 8 9 8 1 1 9 1 9\n",
            " 1 1 0 1 2 2 1 1 0 1 0 2 0 0 7 0 0 7 0 9 1 5 0 1 9 0 9 7 0 9 7 0 9 0 1 9 1\n",
            " 6 0 6 5 0 9 9 1 6 0 6 9 6 0 1 9 9 6 0 1 0 1 1 5 1 1 0 1 9 1 9 2 1 9 0 5 9\n",
            " 1 9 1 9 1 9 0 1 9 1 9 0 9 9 0 9 0 6 0 9 6 0 2 1 5 0 1 9 1 9 1 9 1 9 5 9 1\n",
            " 9 1 9 1 0 1 9 1 9 1 9 0 9 1 0 1 1 0 5 9 1 9 1 9 1 0 5 0 1 9 1 0 1 9 0 9 1\n",
            " 1 0 7 0 1 0 1 0 5 0 0 0 9 4 2 4 0 7 0 2 1 0 5 1 0 1 0 0 1 0 0 1 0 0 1 0 0\n",
            " 2 1 0 0 2 1 0 0 4 2 0 5 9 7 0 9 1 0 9 0 0 9 1 0 9 1 0 9 1 9 9 2 1 0 9 4 1\n",
            " 9 1 0 9 0 9 9 0 9 9 0 9 6 1 9 6 1 9 6 9 6 0 6 8 0 6 8 0 6 8 0 9 8 0 9 8 6\n",
            " 3 9 8 3 9 8 3 9 8 3 9 8 8 9 8 1 6 8 9 6 8 6 8 8 9 8 1 9 8 1 9 6 0 8 1 9 8\n",
            " 0 6 4 2 5 7 0 1 0 1 0 0 1 0 0 1 0 9 1 0 9 1 0 9 1 0 9 1 1 0 0 9 1 0 9 1 9\n",
            " 9 1 9 9 1 9 9 1 0 9 1 0 9 9 6 1 9 6 1 9 6 1 9 6 1 9 6 9 9 8 6 8 0 6 8 0 6\n",
            " 8 0 9 8 6 9 3 6 8 9 6 8 9 6 8 9 0 6 0 6 1 9 8 0 0 6 0 6 0 0 6 0 4 4 5 5 0\n",
            " 1 0 5 0 0 1 0 9 1 0 9 1 9 9 1 0 9 1 1 0 0 9 1 9 9 1 9 9 1 0 6 1 0 6 0 0 9\n",
            " 9 6 1 9 6 1 9 8 1 9 6 6 9 8 9 8 0 9 8 0 9 8 9 0 8 9 8 9 6 8 9 1 6 0 6 0 1\n",
            " 6 0 4 1 1 0 0 9 7 0 9 5 9 9 1 0 9 1 0 9 4 0 0 9 0 9 7 0 6 1 0 6 1 0 6 9 0\n",
            " 6 0 8 1 0 6 1 0 6 6 0 6 9 8 0 9 6 9 9 6 6 8 0 1 9 0 7 0 1 0 0 9 0 9 7 0 6\n",
            " 5 0 6 1 9 1 9 0 6 0 6 5 0 6 0 6 0 6 0 6 0 6 0 6 0 6 9 6 1 0 0 6 1 0 1 1 7\n",
            " 0 1 9 1 9 0 6 2 0 9 0 5 6 1 6 0 9 0 9 0 1 9 0 6 0 6 0 0 6 9 6 1 7 0 1 0 7\n",
            " 9 1 9 1 9 1 9 0 5 9 1 9 1 9 0 1 9 0 9 9 0 6 1 0 0 4 0 0 1 0 0 0 0 0 2 0 0\n",
            " 0 5 0 0 0 5 0 0 0 5 0 0 0 7 1 0 0 7 1 0 0 7 1 0 0 2 9 0 9 9 9 0 9 9 0 9 9\n",
            " 2 0 9 9 5 9 9 9 5 0 9 9 5 0 9 9 7 1 9 9 7 1 0 9 2 1 2 0 1 6 6 6 9 6 6 9 6\n",
            " 6 2 9 6 6 1 9 6 6 1 0 6 6 5 0 9 6 5 0 9 6 4 1 2 1 2 0 7 9 8 8 6 8 8 6 8 8\n",
            " 2 9 8 8 1 9 8 8 1 9 6 8 1 9 6 8 4 7 4 5 4 1 2 1 7 9 3 3 8 3 3 8 3 3 2 8 3\n",
            " 3 9 6 8 3 9 6 8 8 4 7 4 7 4 5 4 1 2 1 2 0 3 3 9 3 3 6 8 3 2 6 8 8 9 6 8 8\n",
            " 4 2 4 7 4 7 4 5 4 1 2 1 2 0 3 3 9 8 3 9 8 8 2 0 6 6 4 2 4 2 4 2 4 7 4 5 4\n",
            " 1 2 1 2 0 8 3 9 8 8 9 6 8 4 2 4 2 4 2 4 2 4 7 4 7 4 5 4 1 2 0 8 3 9 8 8 4\n",
            " 2 4 2 4 2 4 2 4 2 4 7 4 7 4 5 4 1 2 1 6 3 4 2 4 2]\n"
          ]
        }
      ]
    },
    {
      "cell_type": "code",
      "source": [
        "print(labels)\n",
        "print(\"Embeddings shape:\", embeddings.shape)   # should be (1329, latent_dim)\n",
        "print(\"First few embeddings:\\n\", embeddings[:5])\n",
        "unique, counts = np.unique(labels, return_counts=True)\n",
        "print(dict(zip(unique, counts)))"
      ],
      "metadata": {
        "colab": {
          "base_uri": "https://localhost:8080/"
        },
        "id": "ZkZrRbXEQPOB",
        "outputId": "c49851ef-a77d-49f2-ba63-7d857022cde8"
      },
      "execution_count": 10,
      "outputs": [
        {
          "output_type": "stream",
          "name": "stdout",
          "text": [
            "[2 2 2 2 2 2 2 7 7 1 7 1 1 4 2 7 2 1 7 4 1 4 1 4 7 8 1 8 1 4 1 8 8 6 4 2 7\n",
            " 2 1 7 4 1 4 7 4 7 4 1 8 1 4 7 4 4 8 8 7 1 7 4 1 4 1 4 7 4 4 4 8 7 1 4 7 4\n",
            " 7 1 4 1 4 4 1 4 4 1 4 1 1 4 1 2 1 2 2 2 2 2 2 2 7 7 1 1 4 2 1 4 7 1 4 7 4\n",
            " 4 7 7 1 1 4 4 4 7 4 8 7 4 8 4 1 8 4 0 4 0 7 4 0 0 4 6 4 6 4 6 6 0 6 6 9 8\n",
            " 0 6 8 2 7 2 1 1 4 1 4 4 4 7 4 8 2 1 7 4 1 8 4 0 4 0 2 8 1 0 4 6 4 0 2 0 4\n",
            " 6 4 6 6 8 6 8 2 1 7 4 1 4 1 8 4 0 1 4 1 8 1 0 1 6 1 8 1 0 4 0 4 0 4 6 1 0\n",
            " 1 7 4 7 8 1 0 1 0 4 8 1 0 1 0 4 8 1 0 8 0 0 4 8 7 0 1 0 4 8 1 8 4 0 8 1 4\n",
            " 4 7 8 1 4 8 1 8 8 1 4 4 1 4 4 2 2 2 2 1 7 4 2 1 4 7 4 4 1 4 4 1 4 8 1 4 8\n",
            " 1 4 8 2 2 2 4 1 4 2 4 8 1 4 0 1 8 0 1 8 0 1 8 0 2 4 4 0 2 0 6 1 0 6 1 0 6\n",
            " 1 8 6 2 6 0 9 2 0 9 4 0 9 4 0 9 7 9 6 3 2 6 9 0 6 9 2 6 0 9 6 9 2 6 8 6 2\n",
            " 6 2 2 2 2 2 1 1 4 4 4 7 4 8 1 4 8 1 8 0 1 8 0 2 7 4 4 8 8 0 7 8 0 1 8 0 1\n",
            " 8 6 1 1 0 8 6 8 6 1 8 6 1 8 6 0 4 9 0 9 0 9 4 0 9 8 8 9 6 9 6 9 4 1 6 4 6\n",
            " 4 1 0 4 7 7 4 1 4 4 8 7 8 0 7 8 0 1 4 0 1 1 8 4 0 4 6 7 8 6 1 4 6 8 1 6 4\n",
            " 6 8 6 1 8 6 0 4 6 0 9 0 9 8 4 6 6 9 8 1 0 4 1 1 4 4 8 4 0 4 0 7 4 6 4 1 0\n",
            " 4 6 4 6 4 6 0 1 6 4 6 4 6 0 4 6 0 6 0 0 6 8 7 4 1 0 1 0 4 6 4 6 1 0 1 6 4\n",
            " 6 4 6 4 0 1 6 4 6 4 0 8 6 1 0 1 4 0 1 6 1 0 4 0 4 0 1 0 1 0 4 0 4 0 8 6 1\n",
            " 4 8 1 0 1 0 4 8 1 0 8 0 6 2 2 2 4 7 8 2 4 0 1 4 0 4 4 0 4 8 0 4 8 0 4 8 0\n",
            " 2 1 8 0 2 1 8 0 2 2 8 1 0 7 4 0 4 8 0 4 0 6 4 0 6 4 0 6 4 0 6 2 4 0 6 2 4\n",
            " 6 4 0 6 8 6 6 4 6 6 4 6 6 4 6 6 4 0 6 0 9 4 9 9 0 9 9 0 9 9 8 6 9 8 6 9 9\n",
            " 3 6 3 3 6 9 3 6 9 3 6 9 3 6 3 4 6 3 6 9 3 9 9 3 6 3 4 6 3 4 6 9 0 3 4 6 3\n",
            " 0 9 2 2 1 7 4 4 8 1 4 0 4 8 0 4 8 0 4 0 0 1 0 0 1 0 0 1 1 0 8 0 1 0 6 4 0\n",
            " 6 4 0 6 4 6 6 4 0 6 4 8 6 6 6 4 6 6 4 6 9 4 6 9 4 0 9 6 6 9 6 3 8 6 3 8 6\n",
            " 3 0 6 9 6 6 3 9 3 0 9 3 6 9 3 6 0 9 0 9 4 6 3 0 8 9 0 9 0 8 6 0 2 2 1 1 4\n",
            " 4 0 1 8 0 1 0 0 1 0 6 1 0 6 1 0 6 4 4 0 0 6 1 0 6 1 6 6 1 0 6 1 0 6 0 0 6\n",
            " 0 9 1 0 9 4 0 9 4 0 9 9 0 3 6 3 8 6 9 0 6 9 6 8 9 6 9 6 9 9 6 8 6 0 6 0 4\n",
            " 6 0 2 4 4 8 8 0 7 0 6 1 0 6 1 0 6 1 8 6 2 8 4 6 0 6 1 0 6 1 0 9 1 0 6 6 8\n",
            " 9 0 9 1 0 9 1 0 6 9 0 9 6 9 8 6 9 6 6 9 9 9 0 4 6 0 7 4 4 0 8 6 8 6 7 8 6\n",
            " 1 8 6 4 6 4 6 8 9 8 9 1 8 6 8 6 4 9 0 6 0 6 8 6 0 9 6 9 4 0 8 6 4 0 1 4 7\n",
            " 0 4 6 4 6 4 6 7 4 6 0 1 6 4 6 4 6 8 6 0 1 6 4 6 0 6 8 8 6 6 9 4 1 0 4 8 1\n",
            " 6 1 6 4 6 4 6 8 1 0 4 6 4 6 0 4 6 8 6 6 0 9 4 0 0 2 0 0 4 0 0 4 0 0 2 8 0\n",
            " 0 1 8 0 0 1 8 0 0 1 8 0 0 1 4 0 0 7 4 0 0 7 4 0 0 7 0 8 6 6 6 4 6 6 0 6 6\n",
            " 2 0 6 6 1 0 6 6 1 0 6 6 1 8 6 6 1 4 6 6 7 4 0 6 2 4 2 8 1 6 6 6 0 6 6 6 6\n",
            " 6 2 6 6 6 1 0 6 6 1 0 6 6 1 8 6 6 1 4 0 6 2 1 2 1 2 8 1 6 9 9 9 9 9 9 9 9\n",
            " 2 6 9 9 4 6 9 9 4 0 9 9 4 0 6 9 2 1 2 1 2 1 2 4 7 6 3 3 3 3 3 9 3 3 2 9 3\n",
            " 3 6 9 3 3 6 9 9 3 2 7 2 1 2 1 2 1 2 4 7 0 5 5 6 3 5 9 3 5 2 9 3 3 6 9 3 3\n",
            " 2 7 2 7 2 7 2 1 2 1 2 4 2 0 3 5 6 3 3 6 9 3 2 0 6 9 2 7 2 7 2 7 2 7 2 1 2\n",
            " 1 2 4 2 8 3 3 6 3 3 6 9 3 2 2 2 7 2 7 2 7 2 7 2 1 2 1 2 1 2 8 9 3 6 3 3 2\n",
            " 2 2 2 2 2 2 7 2 7 2 7 2 1 2 1 2 1 2 4 9 3 2 2 2 2]\n",
            "Embeddings shape: (1394, 64)\n",
            "First few embeddings:\n",
            " [[ 3.1029966e-02  3.3931819e-01  7.8804225e-01  8.9116406e-01\n",
            "  -2.5949415e-03 -9.1085696e-01 -8.9511049e-01 -9.7441643e-01\n",
            "   4.1248235e-03 -1.8636042e-01 -9.2401254e-01 -9.5601875e-01\n",
            "  -5.8458460e-04  2.2648470e-02  4.5987004e-03  9.0344250e-01\n",
            "  -4.7583479e-01  1.0706249e-02 -8.7453566e-02 -7.7184135e-01\n",
            "   9.1681206e-01 -5.4386979e-01  8.9568377e-01  5.5541391e-03\n",
            "   8.7109804e-01 -7.4391115e-01  7.4681463e-03 -6.2134421e-01\n",
            "  -6.8673056e-01  8.3312088e-01  2.1342527e-02 -4.6556655e-01\n",
            "  -7.5532228e-01 -8.2500464e-01 -3.7397306e-02 -8.2115632e-01\n",
            "   8.0391759e-01  7.3307483e-03 -9.7337222e-01  2.0409636e-03\n",
            "   8.0558002e-01 -9.5894337e-01 -8.0725384e-01  5.0646961e-02\n",
            "   9.4979179e-01 -9.1470498e-01 -1.0501967e-03  9.1068619e-01\n",
            "  -8.0596596e-01  5.0737566e-01  2.4455102e-01  4.1286835e-01\n",
            "  -5.6665587e-01  5.7871923e-02  5.1799542e-01 -7.2855288e-01\n",
            "  -3.5569173e-01 -8.0094695e-01 -9.3393111e-01  9.5859379e-01\n",
            "   9.8566767e-03 -5.7151324e-01 -3.9993843e-01 -3.5670288e-02]\n",
            " [ 3.1029966e-02  3.3931819e-01  7.8804225e-01  8.9116406e-01\n",
            "  -2.5949415e-03 -9.1085696e-01 -8.9511049e-01 -9.7441643e-01\n",
            "   4.1248235e-03 -1.8636042e-01 -9.2401254e-01 -9.5601875e-01\n",
            "  -5.8458460e-04  2.2648470e-02  4.5987004e-03  9.0344250e-01\n",
            "  -4.7583479e-01  1.0706249e-02 -8.7453566e-02 -7.7184135e-01\n",
            "   9.1681206e-01 -5.4386979e-01  8.9568377e-01  5.5541391e-03\n",
            "   8.7109804e-01 -7.4391115e-01  7.4681463e-03 -6.2134421e-01\n",
            "  -6.8673056e-01  8.3312088e-01  2.1342527e-02 -4.6556655e-01\n",
            "  -7.5532228e-01 -8.2500464e-01 -3.7397306e-02 -8.2115632e-01\n",
            "   8.0391759e-01  7.3307483e-03 -9.7337222e-01  2.0409636e-03\n",
            "   8.0558002e-01 -9.5894337e-01 -8.0725384e-01  5.0646961e-02\n",
            "   9.4979179e-01 -9.1470498e-01 -1.0501967e-03  9.1068619e-01\n",
            "  -8.0596596e-01  5.0737566e-01  2.4455102e-01  4.1286835e-01\n",
            "  -5.6665587e-01  5.7871923e-02  5.1799542e-01 -7.2855288e-01\n",
            "  -3.5569173e-01 -8.0094695e-01 -9.3393111e-01  9.5859379e-01\n",
            "   9.8566767e-03 -5.7151324e-01 -3.9993843e-01 -3.5670288e-02]\n",
            " [ 3.1029966e-02  3.3931819e-01  7.8804225e-01  8.9116406e-01\n",
            "  -2.5949415e-03 -9.1085696e-01 -8.9511049e-01 -9.7441643e-01\n",
            "   4.1248235e-03 -1.8636042e-01 -9.2401254e-01 -9.5601875e-01\n",
            "  -5.8458460e-04  2.2648470e-02  4.5987004e-03  9.0344250e-01\n",
            "  -4.7583479e-01  1.0706249e-02 -8.7453566e-02 -7.7184135e-01\n",
            "   9.1681206e-01 -5.4386979e-01  8.9568377e-01  5.5541391e-03\n",
            "   8.7109804e-01 -7.4391115e-01  7.4681463e-03 -6.2134421e-01\n",
            "  -6.8673056e-01  8.3312088e-01  2.1342527e-02 -4.6556655e-01\n",
            "  -7.5532228e-01 -8.2500464e-01 -3.7397306e-02 -8.2115632e-01\n",
            "   8.0391759e-01  7.3307483e-03 -9.7337222e-01  2.0409636e-03\n",
            "   8.0558002e-01 -9.5894337e-01 -8.0725384e-01  5.0646961e-02\n",
            "   9.4979179e-01 -9.1470498e-01 -1.0501967e-03  9.1068619e-01\n",
            "  -8.0596596e-01  5.0737566e-01  2.4455102e-01  4.1286835e-01\n",
            "  -5.6665587e-01  5.7871923e-02  5.1799542e-01 -7.2855288e-01\n",
            "  -3.5569173e-01 -8.0094695e-01 -9.3393111e-01  9.5859379e-01\n",
            "   9.8566767e-03 -5.7151324e-01 -3.9993843e-01 -3.5670288e-02]\n",
            " [ 3.1029966e-02  3.3931819e-01  7.8804225e-01  8.9116406e-01\n",
            "  -2.5949415e-03 -9.1085696e-01 -8.9511049e-01 -9.7441643e-01\n",
            "   4.1248235e-03 -1.8636042e-01 -9.2401254e-01 -9.5601875e-01\n",
            "  -5.8458460e-04  2.2648470e-02  4.5987004e-03  9.0344250e-01\n",
            "  -4.7583479e-01  1.0706249e-02 -8.7453566e-02 -7.7184135e-01\n",
            "   9.1681206e-01 -5.4386979e-01  8.9568377e-01  5.5541391e-03\n",
            "   8.7109804e-01 -7.4391115e-01  7.4681463e-03 -6.2134421e-01\n",
            "  -6.8673056e-01  8.3312088e-01  2.1342527e-02 -4.6556655e-01\n",
            "  -7.5532228e-01 -8.2500464e-01 -3.7397306e-02 -8.2115632e-01\n",
            "   8.0391759e-01  7.3307483e-03 -9.7337222e-01  2.0409636e-03\n",
            "   8.0558002e-01 -9.5894337e-01 -8.0725384e-01  5.0646961e-02\n",
            "   9.4979179e-01 -9.1470498e-01 -1.0501967e-03  9.1068619e-01\n",
            "  -8.0596596e-01  5.0737566e-01  2.4455102e-01  4.1286835e-01\n",
            "  -5.6665587e-01  5.7871923e-02  5.1799542e-01 -7.2855288e-01\n",
            "  -3.5569173e-01 -8.0094695e-01 -9.3393111e-01  9.5859379e-01\n",
            "   9.8566767e-03 -5.7151324e-01 -3.9993843e-01 -3.5670288e-02]\n",
            " [ 3.1029966e-02  3.3931819e-01  7.8804225e-01  8.9116406e-01\n",
            "  -2.5949415e-03 -9.1085696e-01 -8.9511049e-01 -9.7441643e-01\n",
            "   4.1248235e-03 -1.8636042e-01 -9.2401254e-01 -9.5601875e-01\n",
            "  -5.8458460e-04  2.2648470e-02  4.5987004e-03  9.0344250e-01\n",
            "  -4.7583479e-01  1.0706249e-02 -8.7453566e-02 -7.7184135e-01\n",
            "   9.1681206e-01 -5.4386979e-01  8.9568377e-01  5.5541391e-03\n",
            "   8.7109804e-01 -7.4391115e-01  7.4681463e-03 -6.2134421e-01\n",
            "  -6.8673056e-01  8.3312088e-01  2.1342527e-02 -4.6556655e-01\n",
            "  -7.5532228e-01 -8.2500464e-01 -3.7397306e-02 -8.2115632e-01\n",
            "   8.0391759e-01  7.3307483e-03 -9.7337222e-01  2.0409636e-03\n",
            "   8.0558002e-01 -9.5894337e-01 -8.0725384e-01  5.0646961e-02\n",
            "   9.4979179e-01 -9.1470498e-01 -1.0501967e-03  9.1068619e-01\n",
            "  -8.0596596e-01  5.0737566e-01  2.4455102e-01  4.1286835e-01\n",
            "  -5.6665587e-01  5.7871923e-02  5.1799542e-01 -7.2855288e-01\n",
            "  -3.5569173e-01 -8.0094695e-01 -9.3393111e-01  9.5859379e-01\n",
            "   9.8566767e-03 -5.7151324e-01 -3.9993843e-01 -3.5670288e-02]]\n",
            "{np.int32(0): np.int64(221), np.int32(1): np.int64(187), np.int32(2): np.int64(129), np.int32(3): np.int64(56), np.int32(4): np.int64(239), np.int32(5): np.int64(5), np.int32(6): np.int64(243), np.int32(7): np.int64(76), np.int32(8): np.int64(131), np.int32(9): np.int64(107)}\n"
          ]
        }
      ]
    },
    {
      "cell_type": "code",
      "source": [
        "cluster_means = []\n",
        "for c in np.unique(labels):\n",
        "    cluster_means.append(X[labels == c].mean(axis=0).squeeze())\n",
        "cluster_means = np.array(cluster_means)\n",
        "\n",
        "import matplotlib.pyplot as plt\n",
        "for i, mean in enumerate(cluster_means):\n",
        "    plt.plot(mean, label=f\"Cluster {i}\")\n",
        "plt.legend()\n",
        "plt.show()\n"
      ],
      "metadata": {
        "colab": {
          "base_uri": "https://localhost:8080/",
          "height": 430
        },
        "id": "II8jwuMaRCAV",
        "outputId": "5b71093c-0417-4167-9060-d78035f2c0cd"
      },
      "execution_count": 15,
      "outputs": [
        {
          "output_type": "display_data",
          "data": {
            "text/plain": [
              "<Figure size 640x480 with 1 Axes>"
            ],
            "image/png": "[encoded data removed]"
          },
          "metadata": {}
        }
      ]
    },
    {
      "cell_type": "code",
      "source": [
        "import matplotlib.pyplot as plt\n",
        "from sklearn.manifold import TSNE\n",
        "\n",
        "# Reduce embeddings (high-dim) → 2D with t-SNE\n",
        "tsne = TSNE(n_components=2, random_state=0, perplexity=30, n_iter=1000)\n",
        "embeddings_2d = tsne.fit_transform(embeddings)\n",
        "\n",
        "# Plot\n",
        "plt.figure(figsize=(8, 6))\n",
        "scatter = plt.scatter(\n",
        "    embeddings_2d[:, 0],\n",
        "    embeddings_2d[:, 1],\n",
        "    c=labels,\n",
        "    cmap=\"tab10\",\n",
        "    alpha=0.7\n",
        ")\n",
        "\n",
        "plt.title(\"t-SNE Visualization of Clusters\")\n",
        "plt.xlabel(\"t-SNE Dim 1\")\n",
        "plt.ylabel(\"t-SNE Dim 2\")\n",
        "plt.colorbar(scatter, label=\"Cluster ID\")\n",
        "plt.show()\n"
      ],
      "metadata": {
        "colab": {
          "base_uri": "https://localhost:8080/",
          "height": 599
        },
        "id": "n29QpMxQo6uA",
        "outputId": "a46dc416-ca8d-438c-9874-1712ddb11dc0"
      },
      "execution_count": 11,
      "outputs": [
        {
          "output_type": "stream",
          "name": "stderr",
          "text": [
            "/usr/local/lib/python3.12/dist-packages/sklearn/manifold/_t_sne.py:1164: FutureWarning: 'n_iter' was renamed to 'max_iter' in version 1.5 and will be removed in 1.7.\n",
            "  warnings.warn(\n"
          ]
        },
        {
          "output_type": "display_data",
          "data": {
            "text/plain": [
              "<Figure size 800x600 with 2 Axes>"
            ],
            "image/png": "[encoded data removed]"
          },
          "metadata": {}
        }
      ]
    },
    {
      "cell_type": "code",
      "source": [
        "from tensorflow.keras.models import load_model\n",
        "\n",
        "# Load the autoencoder\n",
        "autoencoder = load_model(\"autoencoder_model64.h5\")\n",
        "\n",
        "# If you saved encoder separately\n",
        "encoder = load_model(\"encoder_model.h5\")\n"
      ],
      "metadata": {
        "id": "a0BV4lh6t6ue"
      },
      "execution_count": null,
      "outputs": []
    },
    {
      "cell_type": "markdown",
      "source": [
        "To load the encoder form saved autoencoder\n",
        "Maybe I should save encoder as well."
      ],
      "metadata": {
        "id": "8kJggnXXvXqB"
      }
    },
    {
      "cell_type": "code",
      "source": [
        "\n",
        "from tensorflow.keras import Model\n",
        "\n",
        "# input is still the first layer\n",
        "encoder_input = autoencoder.input\n",
        "\n",
        "# \"encoded\" was the second LSTM (index depends on your architecture)\n",
        "encoder_output = autoencoder.layers[2].output\n",
        "\n",
        "# build encoder again\n",
        "encoder = Model(encoder_input, encoder_output)\n",
        "\n",
        "# now you can get embeddings\n",
        "embeddings = encoder.predict(X)\n"
      ],
      "metadata": {
        "colab": {
          "base_uri": "https://localhost:8080/"
        },
        "id": "lGOxzTNevTgL",
        "outputId": "d6bd5b8d-ae1c-4afb-d971-22689c09c3f6"
      },
      "execution_count": 4,
      "outputs": [
        {
          "output_type": "stream",
          "name": "stdout",
          "text": [
            "\u001b[1m44/44\u001b[0m \u001b[32m━━━━━━━━━━━━━━━━━━━━\u001b[0m\u001b[37m\u001b[0m \u001b[1m18s\u001b[0m 380ms/step\n"
          ]
        }
      ]
    },
    {
      "cell_type": "code",
      "source": [
        "import matplotlib.pyplot as plt\n",
        "from sklearn.decomposition import PCA\n",
        "from sklearn.manifold import TSNE\n",
        "\n",
        "# Step 1: Reduce dimensionality with PCA first (e.g., 64D → 20D)\n",
        "pca = PCA(n_components=20, random_state=0)\n",
        "embeddings_pca = pca.fit_transform(embeddings)\n",
        "\n",
        "# Step 2: Apply t-SNE on PCA-reduced embeddings\n",
        "tsne = TSNE(n_components=2, random_state=0, perplexity=30, n_iter=1000)\n",
        "embeddings_2d = tsne.fit_transform(embeddings_pca)\n",
        "\n",
        "# Step 3: Plot\n",
        "plt.figure(figsize=(8, 6))\n",
        "scatter = plt.scatter(\n",
        "    embeddings_2d[:, 0],\n",
        "    embeddings_2d[:, 1],\n",
        "    c=labels,   # cluster/class labels\n",
        "    cmap=\"tab10\",\n",
        "    alpha=0.7\n",
        ")\n",
        "plt.title(\"PCA + t-SNE Visualization of Clusters\")\n",
        "plt.xlabel(\"t-SNE Dim 1\")\n",
        "plt.ylabel(\"t-SNE Dim 2\")\n",
        "plt.colorbar(scatter, label=\"Cluster ID\")\n",
        "plt.show()\n"
      ],
      "metadata": {
        "colab": {
          "base_uri": "https://localhost:8080/",
          "height": 599
        },
        "id": "RnFYxB8Y1gWi",
        "outputId": "d8185602-7baf-4227-d03d-184b4cb3c64e"
      },
      "execution_count": 5,
      "outputs": [
        {
          "output_type": "stream",
          "name": "stderr",
          "text": [
            "/usr/local/lib/python3.12/dist-packages/sklearn/manifold/_t_sne.py:1164: FutureWarning: 'n_iter' was renamed to 'max_iter' in version 1.5 and will be removed in 1.7.\n",
            "  warnings.warn(\n"
          ]
        },
        {
          "output_type": "display_data",
          "data": {
            "text/plain": [
              "<Figure size 800x600 with 2 Axes>"
            ],
            "image/png": "[encoded data removed]"
          },
          "metadata": {}
        }
      ]
    },
    {
      "cell_type": "markdown",
      "source": [],
      "metadata": {
        "id": "4eu8T6btvWhM"
      }
    }
  ]
}